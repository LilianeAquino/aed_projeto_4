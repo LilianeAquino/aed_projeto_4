{
 "cells": [
  {
   "cell_type": "markdown",
   "metadata": {},
   "source": [
    "# Projeto #4: Classificação de texto"
   ]
  },
  {
   "cell_type": "markdown",
   "metadata": {},
   "source": [
    "# Tarefa e Dados\n",
    "\n",
    "\n",
    "<p align=\"justify\">Descreva a tarefa escolhida e os dados. Escreva o código que leia os dados e calcule e imprima quantas instâncias os dados têm. Também, seu código deve calcular a média de tokens por instância, isto é, quantos tokens, na média cada documento do seu conjunto de dados possui. Imprima esse único número.</p>"
   ]
  },
  {
   "cell_type": "markdown",
   "metadata": {},
   "source": [
    "### Base de dados escolhida:"
   ]
  },
  {
   "cell_type": "markdown",
   "metadata": {},
   "source": [
    "<p align=\"justify\">A base escolhida foi a <b>UTL Corpus</b> que é um conjunto de dados, em português, que contém críticas de filmes e apps coletadas automaticamente de sites.</p>\n",
    "\n",
    "- **Nome da base**: UTLCorpus\n",
    "- **Link do drive**: https://drive.google.com/file/d/1vSlDdOIYshNvCyRsZfw_qTmvwlTiS_JG/view?usp=sharing\n",
    "- **Repositório**: https://github.com/RogerFig/UTLCorpus\n",
    "- **Artigo de referência**: https://repositorio.usp.br/item/002971317\n",
    "\n",
    "<p align=\"justify\">Esse corpus é uma coleção de resenhas extraídas de dois domínios: filmes e aplicativos. A base possui 15 atributos e 2.881.589 avaliações sendo 1.839.851 de filmes e 1.041.738 de aplicativos. O domínio utilizado nesse projeto será o de <b>aplicativos</b> e a tarefa será classificação.</p>"
   ]
  },
  {
   "cell_type": "markdown",
   "metadata": {},
   "source": [
    "### Bibliotecas básicas"
   ]
  },
  {
   "cell_type": "code",
   "execution_count": 1,
   "metadata": {
    "ExecuteTime": {
     "end_time": "2020-11-15T13:24:28.485089Z",
     "start_time": "2020-11-15T13:24:27.510581Z"
    }
   },
   "outputs": [
    {
     "name": "stdout",
     "output_type": "stream",
     "text": [
      "Versão Pandas: 1.0.5\n",
      "Versão Numpy: 1.17.4\n"
     ]
    }
   ],
   "source": [
    "import numpy as np\n",
    "import pandas as pd\n",
    "\n",
    "import warnings\n",
    "warnings.filterwarnings('ignore')\n",
    "\n",
    "%run modules/data.py\n",
    "\n",
    "print(f'Versão Pandas: {pd.__version__}')\n",
    "print(f'Versão Numpy: {np.__version__}')\n",
    "\n",
    "pd.set_option('display.float_format', lambda x: '%.3f' % x);"
   ]
  },
  {
   "cell_type": "markdown",
   "metadata": {
    "ExecuteTime": {
     "end_time": "2020-11-01T11:45:52.649466Z",
     "start_time": "2020-11-01T11:45:52.646314Z"
    }
   },
   "source": [
    "### Bibliotecas de visualização"
   ]
  },
  {
   "cell_type": "code",
   "execution_count": 2,
   "metadata": {
    "ExecuteTime": {
     "end_time": "2020-11-15T13:24:28.888514Z",
     "start_time": "2020-11-15T13:24:28.488969Z"
    }
   },
   "outputs": [
    {
     "name": "stdout",
     "output_type": "stream",
     "text": [
      "Versão Seaborn: 0.10.1\n",
      "Versão Matplotlib: 3.2.1\n"
     ]
    }
   ],
   "source": [
    "import seaborn as sns\n",
    "import matplotlib\n",
    "import matplotlib.pyplot as plt\n",
    "\n",
    "%matplotlib inline\n",
    "matplotlib.style.use(['ggplot'])\n",
    "\n",
    "print(f'Versão Seaborn: {sns.__version__}')\n",
    "print(f'Versão Matplotlib: {matplotlib.__version__}')"
   ]
  },
  {
   "cell_type": "code",
   "execution_count": 3,
   "metadata": {
    "ExecuteTime": {
     "end_time": "2020-11-15T13:24:28.898427Z",
     "start_time": "2020-11-15T13:24:28.892426Z"
    }
   },
   "outputs": [],
   "source": [
    "plt.rcParams['axes.facecolor']='white'\n",
    "plt.rcParams['font.family'] = 'Arial, Helvetica, sans-serif'"
   ]
  },
  {
   "cell_type": "markdown",
   "metadata": {},
   "source": [
    "### Dicionário dos dados"
   ]
  },
  {
   "cell_type": "markdown",
   "metadata": {},
   "source": [
    "**domain**: domínio das resenhas\n",
    "\n",
    "**object**: aplicativo avaliado\n",
    "\n",
    "**author**: autor da avaliação (anonimizado)\n",
    "\n",
    "**text**: texto da avaliação\n",
    "\n",
    "**likes**: número de likes\n",
    "\n",
    "**unlikes**: número de deslikes\n",
    "\n",
    "**stars**: número de estrelas dada na avaliação\n",
    "\n",
    "**date**: data da avaliação\n",
    "\n",
    "**internal_id**: identificador"
   ]
  },
  {
   "cell_type": "markdown",
   "metadata": {},
   "source": [
    "### Carregamento dos dados"
   ]
  },
  {
   "cell_type": "code",
   "execution_count": 4,
   "metadata": {
    "ExecuteTime": {
     "end_time": "2020-11-15T13:24:44.267402Z",
     "start_time": "2020-11-15T13:24:28.902238Z"
    }
   },
   "outputs": [
    {
     "name": "stdout",
     "output_type": "stream",
     "text": [
      "Linhas: 2881589 | Colunas: 16\n"
     ]
    }
   ],
   "source": [
    "data = pd.read_csv('dados/UTLCorpus.csv')\n",
    "print(f'Linhas: {data.shape[0]} | Colunas: {data.shape[1]}')"
   ]
  },
  {
   "cell_type": "markdown",
   "metadata": {},
   "source": [
    "### Escolha do domínio"
   ]
  },
  {
   "cell_type": "code",
   "execution_count": 5,
   "metadata": {
    "ExecuteTime": {
     "end_time": "2020-11-15T13:24:44.768268Z",
     "start_time": "2020-11-15T13:24:44.272174Z"
    }
   },
   "outputs": [
    {
     "name": "stdout",
     "output_type": "stream",
     "text": [
      "Linhas: 1041738 | Colunas: 9\n"
     ]
    }
   ],
   "source": [
    "apps = data.query('domain==\"apps\"')\n",
    "apps.drop(['Unnamed: 0', 'replies', 'favorite', 'want_see', 'recommend', 'see', 'collect_date'], axis=1, inplace=True)\n",
    "apps.reset_index(drop=True, inplace=True)\n",
    "print(f'Linhas: {apps.shape[0]} | Colunas: {apps.shape[1]}')"
   ]
  },
  {
   "cell_type": "markdown",
   "metadata": {},
   "source": [
    "### Características dos dados"
   ]
  },
  {
   "cell_type": "code",
   "execution_count": 6,
   "metadata": {
    "ExecuteTime": {
     "end_time": "2020-11-15T13:24:44.796718Z",
     "start_time": "2020-11-15T13:24:44.772690Z"
    }
   },
   "outputs": [
    {
     "data": {
      "text/html": [
       "<div>\n",
       "<style scoped>\n",
       "    .dataframe tbody tr th:only-of-type {\n",
       "        vertical-align: middle;\n",
       "    }\n",
       "\n",
       "    .dataframe tbody tr th {\n",
       "        vertical-align: top;\n",
       "    }\n",
       "\n",
       "    .dataframe thead th {\n",
       "        text-align: right;\n",
       "    }\n",
       "</style>\n",
       "<table border=\"1\" class=\"dataframe\">\n",
       "  <thead>\n",
       "    <tr style=\"text-align: right;\">\n",
       "      <th></th>\n",
       "      <th>domain</th>\n",
       "      <th>object</th>\n",
       "      <th>author</th>\n",
       "      <th>text</th>\n",
       "      <th>likes</th>\n",
       "      <th>unlikes</th>\n",
       "      <th>stars</th>\n",
       "      <th>date</th>\n",
       "      <th>internal_id</th>\n",
       "    </tr>\n",
       "  </thead>\n",
       "  <tbody>\n",
       "    <tr>\n",
       "      <th>0</th>\n",
       "      <td>apps</td>\n",
       "      <td>air.com.hypah.io.slither</td>\n",
       "      <td>0</td>\n",
       "      <td>Adorei, podia melhorar em vários detalhes, por...</td>\n",
       "      <td>1100</td>\n",
       "      <td>0</td>\n",
       "      <td>5.000</td>\n",
       "      <td>22 de janeiro de 2019</td>\n",
       "      <td>0</td>\n",
       "    </tr>\n",
       "    <tr>\n",
       "      <th>1</th>\n",
       "      <td>apps</td>\n",
       "      <td>air.com.hypah.io.slither</td>\n",
       "      <td>1</td>\n",
       "      <td>17 de março, estamos no ps4 jogando r6, e talv...</td>\n",
       "      <td>152</td>\n",
       "      <td>0</td>\n",
       "      <td>5.000</td>\n",
       "      <td>17 de março de 2019</td>\n",
       "      <td>1</td>\n",
       "    </tr>\n",
       "    <tr>\n",
       "      <th>2</th>\n",
       "      <td>apps</td>\n",
       "      <td>air.com.hypah.io.slither</td>\n",
       "      <td>2</td>\n",
       "      <td>É um jogo bom hzbsbbsbdjdjkaklloosjbsbzbsbhhHA...</td>\n",
       "      <td>0</td>\n",
       "      <td>0</td>\n",
       "      <td>5.000</td>\n",
       "      <td>3 de março de 2019</td>\n",
       "      <td>2</td>\n",
       "    </tr>\n",
       "    <tr>\n",
       "      <th>3</th>\n",
       "      <td>apps</td>\n",
       "      <td>air.com.hypah.io.slither</td>\n",
       "      <td>3</td>\n",
       "      <td>O jogo e mais o menos um pouco bom só que ele ...</td>\n",
       "      <td>0</td>\n",
       "      <td>0</td>\n",
       "      <td>2.000</td>\n",
       "      <td>1 de abril de 2019</td>\n",
       "      <td>3</td>\n",
       "    </tr>\n",
       "    <tr>\n",
       "      <th>4</th>\n",
       "      <td>apps</td>\n",
       "      <td>air.com.hypah.io.slither</td>\n",
       "      <td>4</td>\n",
       "      <td>0. JOGO. E. MUITO. CHATO. MAIS. E. RASUAVEL. V...</td>\n",
       "      <td>0</td>\n",
       "      <td>0</td>\n",
       "      <td>2.000</td>\n",
       "      <td>6 de abril de 2019</td>\n",
       "      <td>4</td>\n",
       "    </tr>\n",
       "  </tbody>\n",
       "</table>\n",
       "</div>"
      ],
      "text/plain": [
       "  domain                    object  author  \\\n",
       "0   apps  air.com.hypah.io.slither       0   \n",
       "1   apps  air.com.hypah.io.slither       1   \n",
       "2   apps  air.com.hypah.io.slither       2   \n",
       "3   apps  air.com.hypah.io.slither       3   \n",
       "4   apps  air.com.hypah.io.slither       4   \n",
       "\n",
       "                                                text  likes  unlikes  stars  \\\n",
       "0  Adorei, podia melhorar em vários detalhes, por...   1100        0  5.000   \n",
       "1  17 de março, estamos no ps4 jogando r6, e talv...    152        0  5.000   \n",
       "2  É um jogo bom hzbsbbsbdjdjkaklloosjbsbzbsbhhHA...      0        0  5.000   \n",
       "3  O jogo e mais o menos um pouco bom só que ele ...      0        0  2.000   \n",
       "4  0. JOGO. E. MUITO. CHATO. MAIS. E. RASUAVEL. V...      0        0  2.000   \n",
       "\n",
       "                    date  internal_id  \n",
       "0  22 de janeiro de 2019            0  \n",
       "1    17 de março de 2019            1  \n",
       "2     3 de março de 2019            2  \n",
       "3     1 de abril de 2019            3  \n",
       "4     6 de abril de 2019            4  "
      ]
     },
     "execution_count": 6,
     "metadata": {},
     "output_type": "execute_result"
    }
   ],
   "source": [
    "apps.head()"
   ]
  },
  {
   "cell_type": "code",
   "execution_count": 7,
   "metadata": {
    "ExecuteTime": {
     "end_time": "2020-11-15T13:24:44.959932Z",
     "start_time": "2020-11-15T13:24:44.799703Z"
    }
   },
   "outputs": [
    {
     "name": "stdout",
     "output_type": "stream",
     "text": [
      "Colunas presentes: ['domain' 'object' 'author' 'text' 'likes' 'unlikes' 'stars' 'date'\n",
      " 'internal_id']\n"
     ]
    }
   ],
   "source": [
    "print(f'Colunas presentes: {apps.columns.values}')"
   ]
  },
  {
   "cell_type": "code",
   "execution_count": 8,
   "metadata": {
    "ExecuteTime": {
     "end_time": "2020-11-15T13:24:45.059344Z",
     "start_time": "2020-11-15T13:24:44.962591Z"
    }
   },
   "outputs": [
    {
     "name": "stdout",
     "output_type": "stream",
     "text": [
      "Tipos dos dados: [dtype('O') dtype('int64') dtype('float64')]\n"
     ]
    }
   ],
   "source": [
    "print(f'Tipos dos dados: {apps.dtypes.unique()}')"
   ]
  },
  {
   "cell_type": "markdown",
   "metadata": {},
   "source": [
    "### Informação dos dados"
   ]
  },
  {
   "cell_type": "code",
   "execution_count": 9,
   "metadata": {
    "ExecuteTime": {
     "end_time": "2020-11-15T13:24:45.493641Z",
     "start_time": "2020-11-15T13:24:45.062580Z"
    }
   },
   "outputs": [
    {
     "name": "stdout",
     "output_type": "stream",
     "text": [
      "<class 'pandas.core.frame.DataFrame'>\n",
      "RangeIndex: 1041738 entries, 0 to 1041737\n",
      "Data columns (total 9 columns):\n",
      " #   Column       Non-Null Count    Dtype  \n",
      "---  ------       --------------    -----  \n",
      " 0   domain       1041738 non-null  object \n",
      " 1   object       1041738 non-null  object \n",
      " 2   author       1041738 non-null  int64  \n",
      " 3   text         1039542 non-null  object \n",
      " 4   likes        1041738 non-null  int64  \n",
      " 5   unlikes      1041738 non-null  int64  \n",
      " 6   stars        1041738 non-null  float64\n",
      " 7   date         1041738 non-null  object \n",
      " 8   internal_id  1041738 non-null  int64  \n",
      "dtypes: float64(1), int64(4), object(4)\n",
      "memory usage: 71.5+ MB\n"
     ]
    }
   ],
   "source": [
    "apps.info()"
   ]
  },
  {
   "cell_type": "markdown",
   "metadata": {},
   "source": [
    "### Descrição dos dados"
   ]
  },
  {
   "cell_type": "code",
   "execution_count": 10,
   "metadata": {
    "ExecuteTime": {
     "end_time": "2020-11-15T13:24:45.817654Z",
     "start_time": "2020-11-15T13:24:45.496045Z"
    }
   },
   "outputs": [
    {
     "data": {
      "text/html": [
       "<div>\n",
       "<style scoped>\n",
       "    .dataframe tbody tr th:only-of-type {\n",
       "        vertical-align: middle;\n",
       "    }\n",
       "\n",
       "    .dataframe tbody tr th {\n",
       "        vertical-align: top;\n",
       "    }\n",
       "\n",
       "    .dataframe thead th {\n",
       "        text-align: right;\n",
       "    }\n",
       "</style>\n",
       "<table border=\"1\" class=\"dataframe\">\n",
       "  <thead>\n",
       "    <tr style=\"text-align: right;\">\n",
       "      <th></th>\n",
       "      <th>likes</th>\n",
       "      <th>unlikes</th>\n",
       "      <th>stars</th>\n",
       "    </tr>\n",
       "  </thead>\n",
       "  <tbody>\n",
       "    <tr>\n",
       "      <th>count</th>\n",
       "      <td>1041738.000</td>\n",
       "      <td>1041738.000</td>\n",
       "      <td>1041738.000</td>\n",
       "    </tr>\n",
       "    <tr>\n",
       "      <th>mean</th>\n",
       "      <td>6.016</td>\n",
       "      <td>0.000</td>\n",
       "      <td>3.957</td>\n",
       "    </tr>\n",
       "    <tr>\n",
       "      <th>std</th>\n",
       "      <td>86.191</td>\n",
       "      <td>0.000</td>\n",
       "      <td>1.528</td>\n",
       "    </tr>\n",
       "    <tr>\n",
       "      <th>min</th>\n",
       "      <td>0.000</td>\n",
       "      <td>0.000</td>\n",
       "      <td>0.000</td>\n",
       "    </tr>\n",
       "    <tr>\n",
       "      <th>25%</th>\n",
       "      <td>0.000</td>\n",
       "      <td>0.000</td>\n",
       "      <td>3.000</td>\n",
       "    </tr>\n",
       "    <tr>\n",
       "      <th>50%</th>\n",
       "      <td>0.000</td>\n",
       "      <td>0.000</td>\n",
       "      <td>5.000</td>\n",
       "    </tr>\n",
       "    <tr>\n",
       "      <th>75%</th>\n",
       "      <td>0.000</td>\n",
       "      <td>0.000</td>\n",
       "      <td>5.000</td>\n",
       "    </tr>\n",
       "    <tr>\n",
       "      <th>max</th>\n",
       "      <td>20146.000</td>\n",
       "      <td>0.000</td>\n",
       "      <td>5.000</td>\n",
       "    </tr>\n",
       "  </tbody>\n",
       "</table>\n",
       "</div>"
      ],
      "text/plain": [
       "            likes     unlikes       stars\n",
       "count 1041738.000 1041738.000 1041738.000\n",
       "mean        6.016       0.000       3.957\n",
       "std        86.191       0.000       1.528\n",
       "min         0.000       0.000       0.000\n",
       "25%         0.000       0.000       3.000\n",
       "50%         0.000       0.000       5.000\n",
       "75%         0.000       0.000       5.000\n",
       "max     20146.000       0.000       5.000"
      ]
     },
     "execution_count": 10,
     "metadata": {},
     "output_type": "execute_result"
    }
   ],
   "source": [
    "apps.drop(['author', 'internal_id'], axis=1).describe()"
   ]
  },
  {
   "cell_type": "code",
   "execution_count": 11,
   "metadata": {
    "ExecuteTime": {
     "end_time": "2020-11-15T13:24:48.296776Z",
     "start_time": "2020-11-15T13:24:45.820460Z"
    }
   },
   "outputs": [
    {
     "data": {
      "text/html": [
       "<div>\n",
       "<style scoped>\n",
       "    .dataframe tbody tr th:only-of-type {\n",
       "        vertical-align: middle;\n",
       "    }\n",
       "\n",
       "    .dataframe tbody tr th {\n",
       "        vertical-align: top;\n",
       "    }\n",
       "\n",
       "    .dataframe thead th {\n",
       "        text-align: right;\n",
       "    }\n",
       "</style>\n",
       "<table border=\"1\" class=\"dataframe\">\n",
       "  <thead>\n",
       "    <tr style=\"text-align: right;\">\n",
       "      <th></th>\n",
       "      <th>object</th>\n",
       "      <th>text</th>\n",
       "      <th>date</th>\n",
       "    </tr>\n",
       "  </thead>\n",
       "  <tbody>\n",
       "    <tr>\n",
       "      <th>count</th>\n",
       "      <td>1041738</td>\n",
       "      <td>1039542</td>\n",
       "      <td>1041738</td>\n",
       "    </tr>\n",
       "    <tr>\n",
       "      <th>unique</th>\n",
       "      <td>233</td>\n",
       "      <td>809232</td>\n",
       "      <td>2879</td>\n",
       "    </tr>\n",
       "    <tr>\n",
       "      <th>top</th>\n",
       "      <td>com.b2w.americanas</td>\n",
       "      <td>muito bom</td>\n",
       "      <td>29 de março de 2019</td>\n",
       "    </tr>\n",
       "    <tr>\n",
       "      <th>freq</th>\n",
       "      <td>5080</td>\n",
       "      <td>17946</td>\n",
       "      <td>16863</td>\n",
       "    </tr>\n",
       "  </tbody>\n",
       "</table>\n",
       "</div>"
      ],
      "text/plain": [
       "                    object       text                 date\n",
       "count              1041738    1039542              1041738\n",
       "unique                 233     809232                 2879\n",
       "top     com.b2w.americanas  muito bom  29 de março de 2019\n",
       "freq                  5080      17946                16863"
      ]
     },
     "execution_count": 11,
     "metadata": {},
     "output_type": "execute_result"
    }
   ],
   "source": [
    "apps[['object', 'text', 'date']].describe(include='O')"
   ]
  },
  {
   "cell_type": "markdown",
   "metadata": {},
   "source": [
    "### Valores nulos"
   ]
  },
  {
   "cell_type": "code",
   "execution_count": 12,
   "metadata": {
    "ExecuteTime": {
     "end_time": "2020-11-15T13:24:48.962380Z",
     "start_time": "2020-11-15T13:24:48.299689Z"
    }
   },
   "outputs": [
    {
     "data": {
      "text/html": [
       "<div>\n",
       "<style scoped>\n",
       "    .dataframe tbody tr th:only-of-type {\n",
       "        vertical-align: middle;\n",
       "    }\n",
       "\n",
       "    .dataframe tbody tr th {\n",
       "        vertical-align: top;\n",
       "    }\n",
       "\n",
       "    .dataframe thead th {\n",
       "        text-align: right;\n",
       "    }\n",
       "</style>\n",
       "<table border=\"1\" class=\"dataframe\">\n",
       "  <thead>\n",
       "    <tr style=\"text-align: right;\">\n",
       "      <th></th>\n",
       "      <th>tipos</th>\n",
       "      <th>NA #</th>\n",
       "      <th>NA %</th>\n",
       "    </tr>\n",
       "    <tr>\n",
       "      <th>nomes</th>\n",
       "      <th></th>\n",
       "      <th></th>\n",
       "      <th></th>\n",
       "    </tr>\n",
       "  </thead>\n",
       "  <tbody>\n",
       "    <tr>\n",
       "      <th>text</th>\n",
       "      <td>object</td>\n",
       "      <td>2196</td>\n",
       "      <td>0.211</td>\n",
       "    </tr>\n",
       "  </tbody>\n",
       "</table>\n",
       "</div>"
      ],
      "text/plain": [
       "        tipos  NA #  NA %\n",
       "nomes                    \n",
       "text   object  2196 0.211"
      ]
     },
     "execution_count": 12,
     "metadata": {},
     "output_type": "execute_result"
    }
   ],
   "source": [
    "data_missing = pd.DataFrame({'nomes': apps.columns, \n",
    "                             'tipos': apps.dtypes, \n",
    "                             'NA #': apps.isna().sum(),\n",
    "                             'NA %': (apps.isna().sum() / apps.shape[0]) * 100\n",
    "                            })\n",
    "\n",
    "data_missing[data_missing['NA #'] > 0].set_index('nomes')"
   ]
  },
  {
   "cell_type": "code",
   "execution_count": 13,
   "metadata": {
    "ExecuteTime": {
     "end_time": "2020-11-15T13:24:50.065199Z",
     "start_time": "2020-11-15T13:24:48.965353Z"
    }
   },
   "outputs": [
    {
     "data": {
      "image/png": "[encoded data removed]",
      "text/plain": [
       "<Figure size 864x432 with 3 Axes>"
      ]
     },
     "metadata": {},
     "output_type": "display_data"
    }
   ],
   "source": [
    "import missingno as msno\n",
    "\n",
    "msno.bar(apps, figsize=[12, 6])\n",
    "plt.title('Visualizando os dados faltantes', y=1.25, size=16, loc='left')\n",
    "plt.show()"
   ]
  },
  {
   "cell_type": "markdown",
   "metadata": {},
   "source": [
    "#### Remoção das linhas com texto nulos"
   ]
  },
  {
   "cell_type": "code",
   "execution_count": 14,
   "metadata": {
    "ExecuteTime": {
     "end_time": "2020-11-15T13:24:50.801490Z",
     "start_time": "2020-11-15T13:24:50.067798Z"
    }
   },
   "outputs": [
    {
     "name": "stdout",
     "output_type": "stream",
     "text": [
      "Conferindo a remoção dos valores nulos: \n"
     ]
    },
    {
     "data": {
      "text/plain": [
       "domain         0\n",
       "object         0\n",
       "author         0\n",
       "text           0\n",
       "likes          0\n",
       "unlikes        0\n",
       "stars          0\n",
       "date           0\n",
       "internal_id    0\n",
       "dtype: int64"
      ]
     },
     "execution_count": 14,
     "metadata": {},
     "output_type": "execute_result"
    }
   ],
   "source": [
    "apps.dropna(inplace=True)\n",
    "print('Conferindo a remoção dos valores nulos: ')\n",
    "apps.isna().sum()"
   ]
  },
  {
   "cell_type": "markdown",
   "metadata": {},
   "source": [
    "### Definição dos rótulos\n",
    "\n",
    "<p align='justify'>Cada crítica tem uma pontuação de 0 a 5 estrelas:</p>\n",
    "\n",
    "- 0 e 5: serão descartadas para evitar os casos em que as estrelas do usuário não são coerentes com o texto da avaliação.\n",
    " \n",
    "- 1 e 2: negativa\n",
    "\n",
    "- 3: serão descartadas, porque geralmente contêm opiniões positivas e negativas.\n",
    "\n",
    "- 4: positiva\n",
    "\n",
    "<p align='justify'>Baseada na metodologia explicada neste artigo: <a href='https://www.teses.usp.br/teses/disponiveis/55/55134/tde-24032016-171420/pt-br.php'>Sobre normalização e classificação de polaridade de textos opinativos na web</a></p>"
   ]
  },
  {
   "cell_type": "markdown",
   "metadata": {},
   "source": [
    "#### Distribuição das estrelas"
   ]
  },
  {
   "cell_type": "code",
   "execution_count": 15,
   "metadata": {
    "ExecuteTime": {
     "end_time": "2020-11-15T13:24:50.835713Z",
     "start_time": "2020-11-15T13:24:50.804494Z"
    }
   },
   "outputs": [
    {
     "data": {
      "text/plain": [
       "5.000    632365\n",
       "1.000    170877\n",
       "4.000    118379\n",
       "3.000     70677\n",
       "2.000     47237\n",
       "0.000         7\n",
       "Name: stars, dtype: int64"
      ]
     },
     "execution_count": 15,
     "metadata": {},
     "output_type": "execute_result"
    }
   ],
   "source": [
    "apps['stars'].value_counts()"
   ]
  },
  {
   "cell_type": "markdown",
   "metadata": {},
   "source": [
    "#### Exemplo de opinião negativa e positiva no mesmo texto"
   ]
  },
  {
   "cell_type": "code",
   "execution_count": 16,
   "metadata": {
    "ExecuteTime": {
     "end_time": "2020-11-15T13:24:51.031867Z",
     "start_time": "2020-11-15T13:24:50.838221Z"
    }
   },
   "outputs": [
    {
     "name": "stdout",
     "output_type": "stream",
     "text": [
      "['O jogo é bom, mas ele tem muita propaganda e além disso ele trava demais'\n",
      " 3.0]\n"
     ]
    }
   ],
   "source": [
    "print(apps[apps.index==92][['text', 'stars']].values[0])"
   ]
  },
  {
   "cell_type": "markdown",
   "metadata": {},
   "source": [
    "#### Exemplo de texto em que a estrela do usuário não é coerente com o texto"
   ]
  },
  {
   "cell_type": "code",
   "execution_count": 17,
   "metadata": {
    "ExecuteTime": {
     "end_time": "2020-11-15T13:24:51.129926Z",
     "start_time": "2020-11-15T13:24:51.035259Z"
    }
   },
   "outputs": [
    {
     "name": "stdout",
     "output_type": "stream",
     "text": [
      "['Gostei, acompanho vários esportes no msm lugar. Funfa muito bem no Galaxy S'\n",
      " 0.0]\n"
     ]
    }
   ],
   "source": [
    "print(apps[apps.index==319073][['text', 'stars']].values[0])"
   ]
  },
  {
   "cell_type": "markdown",
   "metadata": {},
   "source": [
    "#### Seleção das classificações com 1, 2 e 4 estrelas"
   ]
  },
  {
   "cell_type": "code",
   "execution_count": 18,
   "metadata": {
    "ExecuteTime": {
     "end_time": "2020-11-15T13:24:51.460886Z",
     "start_time": "2020-11-15T13:24:51.133283Z"
    }
   },
   "outputs": [
    {
     "name": "stdout",
     "output_type": "stream",
     "text": [
      "Linhas: 336493 | Colunas: 9\n"
     ]
    }
   ],
   "source": [
    "apps = apps.query('stars==1 or stars==2 or stars==4')\n",
    "apps.reset_index(drop=True, inplace=True)\n",
    "print(f'Linhas: {apps.shape[0]} | Colunas: {apps.shape[1]}')"
   ]
  },
  {
   "cell_type": "markdown",
   "metadata": {},
   "source": [
    "#### Criação dos rótulos para as classificações"
   ]
  },
  {
   "cell_type": "code",
   "execution_count": 19,
   "metadata": {
    "ExecuteTime": {
     "end_time": "2020-11-15T13:24:51.616087Z",
     "start_time": "2020-11-15T13:24:51.463906Z"
    }
   },
   "outputs": [
    {
     "data": {
      "text/plain": [
       "negativo    218114\n",
       "positivo    118379\n",
       "Name: rating, dtype: int64"
      ]
     },
     "execution_count": 19,
     "metadata": {},
     "output_type": "execute_result"
    }
   ],
   "source": [
    "labels_map = {1 : 'negativo', 2: 'negativo', 4: 'positivo'}\n",
    "apps['rating'] = apps['stars'].map(labels_map)\n",
    "apps['rating'].value_counts()"
   ]
  },
  {
   "cell_type": "markdown",
   "metadata": {},
   "source": [
    "#### Exemplos dos textos"
   ]
  },
  {
   "cell_type": "code",
   "execution_count": 20,
   "metadata": {
    "ExecuteTime": {
     "end_time": "2020-11-15T13:24:51.790113Z",
     "start_time": "2020-11-15T13:24:51.619036Z"
    }
   },
   "outputs": [
    {
     "name": "stdout",
     "output_type": "stream",
     "text": [
      "Text: Eu quero que arrume tem muito comerciais falças quando você acaba de perde quando você sai ai tem comerciais eu ficou unvido musica com esse jogo quando chegar outro comeciau ele pausa a musica\n",
      "Rating: negativo\n",
      "Stars: 1.0\n"
     ]
    }
   ],
   "source": [
    "print_example(4, apps)"
   ]
  },
  {
   "cell_type": "code",
   "execution_count": 21,
   "metadata": {
    "ExecuteTime": {
     "end_time": "2020-11-15T13:24:52.016634Z",
     "start_time": "2020-11-15T13:24:51.792828Z"
    }
   },
   "outputs": [
    {
     "name": "stdout",
     "output_type": "stream",
     "text": [
      "Text: O jogo e mais o menos um pouco bom só que ele fica travando muito no meu celula ñ curti muito mais dou duas estrelas\n",
      "Rating: negativo\n",
      "Stars: 2.0\n"
     ]
    }
   ],
   "source": [
    "print_example(0, apps)"
   ]
  },
  {
   "cell_type": "code",
   "execution_count": 22,
   "metadata": {
    "ExecuteTime": {
     "end_time": "2020-11-15T13:24:52.196536Z",
     "start_time": "2020-11-15T13:24:52.021774Z"
    }
   },
   "outputs": [
    {
     "name": "stdout",
     "output_type": "stream",
     "text": [
      "Text: sabe o jogo é muito bom tem feito um sucesso imenso, não quero choramingar mas quando a gente esta no nível supremo e alguem mata vc é de ficar puto da vida\n",
      "Rating: positivo\n",
      "Stars: 4.0\n"
     ]
    }
   ],
   "source": [
    "print_example(2, apps)"
   ]
  },
  {
   "cell_type": "markdown",
   "metadata": {},
   "source": [
    "### Limpeza dos dados"
   ]
  },
  {
   "cell_type": "code",
   "execution_count": null,
   "metadata": {
    "ExecuteTime": {
     "end_time": "2020-11-15T12:04:15.513602Z",
     "start_time": "2020-11-15T12:04:15.509024Z"
    }
   },
   "outputs": [],
   "source": []
  },
  {
   "cell_type": "markdown",
   "metadata": {
    "heading_collapsed": true
   },
   "source": [
    "### Polaridade do Texto"
   ]
  },
  {
   "cell_type": "code",
   "execution_count": 23,
   "metadata": {
    "ExecuteTime": {
     "end_time": "2020-11-15T13:24:52.356018Z",
     "start_time": "2020-11-15T13:24:52.199380Z"
    },
    "hidden": true
   },
   "outputs": [],
   "source": [
    "# from textblob import TextBlob\n",
    "# apps['polaridade'] = apps['text'].map(lambda text: TextBlob(text).sentiment.polarity)\n",
    "\n",
    "\n",
    "# apps['polaridade'].plot(\n",
    "#     kind='hist',\n",
    "#     color='black',\n",
    "#     title='Distribuição de polaridade de sentimento',\n",
    "#     figsize=(10, 6)\n",
    "# )\n",
    "\n",
    "# plt.xlabel('Polaridade')\n",
    "# plt.ylabel('Contagem')\n",
    "# plt.show()"
   ]
  },
  {
   "cell_type": "markdown",
   "metadata": {
    "heading_collapsed": true
   },
   "source": [
    "### Add novas features"
   ]
  },
  {
   "cell_type": "code",
   "execution_count": 24,
   "metadata": {
    "ExecuteTime": {
     "end_time": "2020-11-15T13:24:52.605943Z",
     "start_time": "2020-11-15T13:24:52.358630Z"
    },
    "hidden": true
   },
   "outputs": [],
   "source": [
    "# apps['tamanho_texto'] = apps['text'].astype(str).apply(len)\n",
    "# apps['contagem_palavras'] = apps['text'].apply(lambda x: len(str(x).split()))"
   ]
  },
  {
   "cell_type": "code",
   "execution_count": 25,
   "metadata": {
    "ExecuteTime": {
     "end_time": "2020-11-15T13:24:52.789014Z",
     "start_time": "2020-11-15T13:24:52.611740Z"
    },
    "hidden": true
   },
   "outputs": [],
   "source": [
    "# apps['tamanho_texto'].plot(\n",
    "#     kind='hist',\n",
    "#     bins=50,\n",
    "#     color='black',\n",
    "#     title='Distribuição do tamanho do texto', \n",
    "#     figsize=(10, 6)\n",
    "# )\n",
    "\n",
    "# plt.xlabel('Tamanho texto')\n",
    "# plt.ylabel('Contagem')\n",
    "# plt.show()\n",
    "\n",
    "\n",
    "# apps['contagem_palavras'].plot(\n",
    "#     kind='hist',\n",
    "#     bins=50,\n",
    "#     color='black',\n",
    "#     title='Distribuição do total de palavras por texto', \n",
    "#     figsize=(10, 6)\n",
    "# )\n",
    "\n",
    "# plt.xlabel('Total de palavras')\n",
    "# plt.ylabel('Contagem')\n",
    "# plt.show()"
   ]
  },
  {
   "cell_type": "markdown",
   "metadata": {
    "ExecuteTime": {
     "end_time": "2020-11-15T12:13:18.920373Z",
     "start_time": "2020-11-15T12:13:18.917739Z"
    }
   },
   "source": [
    "### Análise N-grams"
   ]
  },
  {
   "cell_type": "markdown",
   "metadata": {
    "ExecuteTime": {
     "end_time": "2020-11-15T12:29:52.908239Z",
     "start_time": "2020-11-15T12:29:52.905069Z"
    }
   },
   "source": [
    "#### Unigrams"
   ]
  },
  {
   "cell_type": "code",
   "execution_count": 26,
   "metadata": {
    "ExecuteTime": {
     "end_time": "2020-11-15T13:25:13.305346Z",
     "start_time": "2020-11-15T13:24:52.792584Z"
    }
   },
   "outputs": [
    {
     "data": {
      "image/png": "[encoded data removed]",
      "text/plain": [
       "<Figure size 720x432 with 1 Axes>"
      ]
     },
     "metadata": {},
     "output_type": "display_data"
    }
   ],
   "source": [
    "common_words = get_top_n_words(apps['text'])\n",
    "uni = pd.DataFrame(common_words, columns = ['texto' , 'contagem'])\n",
    "\n",
    "_, ax= plt.subplots()\n",
    "uni.groupby('texto').sum()['contagem'].sort_values(ascending=False).plot(kind='bar', \n",
    "                                                                         color=sns.color_palette('Greens_r', n_colors=25), \n",
    "                                                                         figsize=[10, 6])\n",
    "\n",
    "plt.title('Top 20 palavras mais frequentes', y=1.05, size=14, loc='left', x=-0.005)\n",
    "plt.ylabel('Contagem', horizontalalignment='left', y=0.83)\n",
    "plt.xlabel('Palavras', horizontalalignment='right', x=0.09)  \n",
    "plt.ylim(0, 80000)\n",
    "ax.set_xticklabels(uni['texto'], rotation=45, ha='right')\n",
    "plt.show()"
   ]
  },
  {
   "cell_type": "markdown",
   "metadata": {},
   "source": [
    "#### Bigrams"
   ]
  },
  {
   "cell_type": "code",
   "execution_count": 27,
   "metadata": {
    "ExecuteTime": {
     "end_time": "2020-11-15T13:25:50.269978Z",
     "start_time": "2020-11-15T13:25:13.308381Z"
    }
   },
   "outputs": [
    {
     "data": {
      "image/png": "[encoded data removed]",
      "text/plain": [
       "<Figure size 720x432 with 1 Axes>"
      ]
     },
     "metadata": {},
     "output_type": "display_data"
    }
   ],
   "source": [
    "common_words = get_top_n_words(apps['text'], 2, 10)\n",
    "bi = pd.DataFrame(common_words, columns = ['texto' , 'contagem'])\n",
    "\n",
    "_, ax= plt.subplots()\n",
    "bi.groupby('texto').sum()['contagem'].sort_values(ascending=False).plot(kind='bar', \n",
    "                                                                         color=sns.color_palette('Greens_r', n_colors=12), \n",
    "                                                                         figsize=[10, 6])\n",
    "\n",
    "plt.title('Top 10 bigrams mais frequentes', y=1.05, size=14, loc='left', x=-0.005)\n",
    "plt.ylabel('Contagem', horizontalalignment='left', y=0.83)\n",
    "plt.xlabel('Palavras', horizontalalignment='right', x=0.09)  \n",
    "plt.ylim(0, 6000)\n",
    "ax.set_xticklabels(bi['texto'], rotation=45, ha='right')\n",
    "plt.show()"
   ]
  },
  {
   "cell_type": "markdown",
   "metadata": {},
   "source": [
    "#### Trigrams"
   ]
  },
  {
   "cell_type": "code",
   "execution_count": 28,
   "metadata": {
    "ExecuteTime": {
     "end_time": "2020-11-15T13:26:36.288505Z",
     "start_time": "2020-11-15T13:25:50.273203Z"
    }
   },
   "outputs": [
    {
     "data": {
      "image/png": "[encoded data removed]",
      "text/plain": [
       "<Figure size 720x432 with 1 Axes>"
      ]
     },
     "metadata": {},
     "output_type": "display_data"
    }
   ],
   "source": [
    "common_words = get_top_n_words(apps['text'], 3, 10)\n",
    "tri = pd.DataFrame(common_words, columns = ['texto' , 'contagem'])\n",
    "\n",
    "_, ax= plt.subplots()\n",
    "tri.groupby('texto').sum()['contagem'].sort_values(ascending=False).plot(kind='bar', \n",
    "                                                                         color=sns.color_palette('Greens_r', n_colors=12), \n",
    "                                                                         figsize=[10, 6])\n",
    "\n",
    "plt.title('Top 10 trigrams mais frequentes', y=1.05, size=14, loc='left', x=-0.005)\n",
    "plt.ylabel('Contagem', horizontalalignment='left', y=0.83)\n",
    "plt.xlabel('Palavras', horizontalalignment='right', x=0.09)  \n",
    "plt.ylim(0, 1000)\n",
    "ax.set_xticklabels(tri['texto'], rotation=45, ha='right')\n",
    "plt.show()"
   ]
  },
  {
   "cell_type": "markdown",
   "metadata": {
    "heading_collapsed": true
   },
   "source": [
    "### Encontrando termos característicos e suas associações"
   ]
  },
  {
   "cell_type": "code",
   "execution_count": 29,
   "metadata": {
    "ExecuteTime": {
     "end_time": "2020-11-15T13:26:36.294193Z",
     "start_time": "2020-11-15T13:26:36.291401Z"
    },
    "hidden": true
   },
   "outputs": [],
   "source": [
    "# import scattertext as st\n",
    "# import spacy\n",
    "\n",
    "# nlp = spacy.load('pt')\n",
    "# corpus = st.CorpusFromPandas (apps, category_col='classe', text_col='texto', nlp=nlp).build()\n",
    "\n",
    "# print(list (corpus.get_scaled_f_scores_vs_background().index[:50]))"
   ]
  },
  {
   "cell_type": "code",
   "execution_count": 30,
   "metadata": {
    "ExecuteTime": {
     "end_time": "2020-11-15T13:26:36.641487Z",
     "start_time": "2020-11-15T13:26:36.296683Z"
    },
    "hidden": true
   },
   "outputs": [],
   "source": [
    "# term_freq_df = corpus.get_term_freq_df() \n",
    "# term_freq_df['negativo'] = corpus.get_scaled_f_scores('negativo') \n",
    "# print(list(term_freq_df.sort_values(by='negativo', ascending=False).index[: 20]))"
   ]
  },
  {
   "cell_type": "markdown",
   "metadata": {},
   "source": [
    "### Média de tokens por instância"
   ]
  },
  {
   "cell_type": "code",
   "execution_count": 31,
   "metadata": {
    "ExecuteTime": {
     "end_time": "2020-11-15T13:26:37.929417Z",
     "start_time": "2020-11-15T13:26:36.646245Z"
    }
   },
   "outputs": [
    {
     "name": "stdout",
     "output_type": "stream",
     "text": [
      "Média dos tokens por instância: 18.56\n"
     ]
    }
   ],
   "source": [
    "average = average_tokens(apps, 'text')\n",
    "print(f'Média dos tokens por instância: {round(average, 2)}')"
   ]
  },
  {
   "cell_type": "markdown",
   "metadata": {},
   "source": [
    "# Visualização dos dados\n",
    "\n",
    "\n",
    "<p align=\"justify\">Coloque nesta seção os gráficos do PCA e do t-SNE, para cada representação. Responda também às seguintes perguntas:</p>\n",
    "\n",
    "\n",
    "- a) Existe algum padrão com relação às classes? \n",
    "- b) Caso exista algum padrão, você pode concluir alguma coisa? \n",
    "- c) Caso não exista, você consegue dizer se isso tem a ver com alguma representação ou classe?"
   ]
  },
  {
   "cell_type": "code",
   "execution_count": null,
   "metadata": {},
   "outputs": [],
   "source": []
  },
  {
   "cell_type": "markdown",
   "metadata": {},
   "source": [
    "# Classificadores\n",
    "\n",
    "\n",
    "<p align=\"justify\">Descreva sucintamente os dois classificadores escolhidos. Você usou algum parâmetro que não seja padrão? Se sim, mencione nesta seção.</p>"
   ]
  },
  {
   "cell_type": "code",
   "execution_count": null,
   "metadata": {},
   "outputs": [],
   "source": []
  },
  {
   "cell_type": "markdown",
   "metadata": {},
   "source": [
    "# Resultados\n",
    "\n",
    "\n",
    "<p align=\"justify\">Escreva código que execute a validação cruzada em 5-folds para os dois classificadores escolhidos. Também responda às seguintes perguntas:</p>\n",
    "\n",
    "- Os embeddings realmente mostraram um resultado melhor que o TF-IDF? \n",
    "- Se não, qual foi a representação que teve o melhor desempenho? \n",
    "- A diferença foi muito grande?"
   ]
  },
  {
   "cell_type": "code",
   "execution_count": null,
   "metadata": {},
   "outputs": [],
   "source": []
  },
  {
   "cell_type": "markdown",
   "metadata": {},
   "source": [
    "# Conclusão\n",
    "\n",
    "\n",
    "<p align=\"justify\">Por fim, fale aqui o que você conclui das visualizações e dos resultados. Tente explicar em detalhes por que um resultado, na sua opinião, foi melhor do que outro. Esta explicação pode incluir hipóteses para resultados melhores ou resultados piores. Também pode falar das dificuldades enfrentadas durante o trabalho e como conseguiu contorná-las.</p>"
   ]
  },
  {
   "cell_type": "code",
   "execution_count": null,
   "metadata": {},
   "outputs": [],
   "source": []
  }
 ],
 "metadata": {
  "hide_input": false,
  "kernelspec": {
   "display_name": "Python 3",
   "language": "python",
   "name": "python3"
  },
  "language_info": {
   "codemirror_mode": {
    "name": "ipython",
    "version": 3
   },
   "file_extension": ".py",
   "mimetype": "text/x-python",
   "name": "python",
   "nbconvert_exporter": "python",
   "pygments_lexer": "ipython3",
   "version": "3.7.5"
  },
  "toc": {
   "base_numbering": 1,
   "nav_menu": {},
   "number_sections": true,
   "sideBar": true,
   "skip_h1_title": false,
   "title_cell": "Table of Contents",
   "title_sidebar": "Contents",
   "toc_cell": false,
   "toc_position": {},
   "toc_section_display": true,
   "toc_window_display": false
  },
  "varInspector": {
   "cols": {
    "lenName": 16,
    "lenType": 16,
    "lenVar": 40
   },
   "kernels_config": {
    "python": {
     "delete_cmd_postfix": "",
     "delete_cmd_prefix": "del ",
     "library": "var_list.py",
     "varRefreshCmd": "print(var_dic_list())"
    },
    "r": {
     "delete_cmd_postfix": ") ",
     "delete_cmd_prefix": "rm(",
     "library": "var_list.r",
     "varRefreshCmd": "cat(var_dic_list()) "
    }
   },
   "types_to_exclude": [
    "module",
    "function",
    "builtin_function_or_method",
    "instance",
    "_Feature"
   ],
   "window_display": false
  }
 },
 "nbformat": 4,
 "nbformat_minor": 4
}
