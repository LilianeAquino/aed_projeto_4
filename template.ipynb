{
  "nbformat": 4,
  "nbformat_minor": 0,
  "metadata": {
    "hide_input": false,
    "kernelspec": {
      "display_name": "Python 3",
      "language": "python",
      "name": "python3"
    },
    "language_info": {
      "codemirror_mode": {
        "name": "ipython",
        "version": 3
      },
      "file_extension": ".py",
      "mimetype": "text/x-python",
      "name": "python",
      "nbconvert_exporter": "python",
      "pygments_lexer": "ipython3",
      "version": "3.7.5"
    },
    "toc": {
      "base_numbering": 1,
      "nav_menu": {},
      "number_sections": true,
      "sideBar": true,
      "skip_h1_title": false,
      "title_cell": "Table of Contents",
      "title_sidebar": "Contents",
      "toc_cell": false,
      "toc_position": {},
      "toc_section_display": true,
      "toc_window_display": false
    },
    "varInspector": {
      "cols": {
        "lenName": 16,
        "lenType": 16,
        "lenVar": 40
      },
      "kernels_config": {
        "python": {
          "delete_cmd_postfix": "",
          "delete_cmd_prefix": "del ",
          "library": "var_list.py",
          "varRefreshCmd": "print(var_dic_list())"
        },
        "r": {
          "delete_cmd_postfix": ") ",
          "delete_cmd_prefix": "rm(",
          "library": "var_list.r",
          "varRefreshCmd": "cat(var_dic_list()) "
        }
      },
      "types_to_exclude": [
        "module",
        "function",
        "builtin_function_or_method",
        "instance",
        "_Feature"
      ],
      "window_display": false
    },
    "colab": {
      "name": "template.ipynb",
      "provenance": [],
      "collapsed_sections": [
        "UkSbLnRN4mNK",
        "2sgwW09R4qGG",
        "fwJt_3KAwdcr",
        "vA84B4pXwdcr",
        "FEN6PI5Owdcr"
      ]
    }
  },
  "cells": [
    {
      "cell_type": "markdown",
      "metadata": {
        "id": "kjuRhqcgwdck"
      },
      "source": [
        "# Projeto #4: Classificação de texto"
      ]
    },
    {
      "cell_type": "markdown",
      "metadata": {
        "id": "YyQNLhLRwdck"
      },
      "source": [
        "# Tarefa e Dados\n",
        "\n",
        "\n",
        "<p align=\"justify\">Descreva a tarefa escolhida e os dados. Escreva o código que leia os dados e calcule e imprima quantas instâncias os dados têm. Também, seu código deve calcular a média de tokens por instância, isto é, quantos tokens, na média cada documento do seu conjunto de dados possui. Imprima esse único número.</p>"
      ]
    },
    {
      "cell_type": "markdown",
      "metadata": {
        "id": "l2Yt75LLwdck"
      },
      "source": [
        "### Base de dados escolhida:"
      ]
    },
    {
      "cell_type": "markdown",
      "metadata": {
        "id": "oL4gaUDZwdck"
      },
      "source": [
        "<p align=\"justify\">A base escolhida foi a <b>UTL Corpus</b> que é um conjunto de dados, em português, que contém críticas de filmes e apps coletadas automaticamente de sites.</p>\n",
        "\n",
        "- **Nome da base**: UTLCorpus\n",
        "- **Link do drive**: https://drive.google.com/file/d/1vSlDdOIYshNvCyRsZfw_qTmvwlTiS_JG/view?usp=sharing\n",
        "- **Repositório**: https://github.com/RogerFig/UTLCorpus\n",
        "- **Artigo de referência**: https://repositorio.usp.br/item/002971317\n",
        "\n",
        "<p align=\"justify\">Esse corpus é uma coleção de resenhas extraídas de dois domínios: filmes e aplicativos. A base possui 15 atributos e 2.881.589 avaliações sendo 1.839.851 de filmes e 1.041.738 de aplicativos. O domínio utilizado nesse projeto será o de <b>aplicativos</b> e a tarefa será <b>classificação</b> binária cujo objetivo será dizer se uma avaliação é positiva ou negativa.</p>"
      ]
    },
    {
      "cell_type": "code",
      "metadata": {
        "colab": {
          "base_uri": "https://localhost:8080/"
        },
        "id": "nA2_RUrYwmvx",
        "outputId": "28888fe2-a164-4261-92fd-45c77412c2c0"
      },
      "source": [
        "from google.colab import drive\n",
        "drive.mount('/content/gdrive')"
      ],
      "execution_count": 1,
      "outputs": [
        {
          "output_type": "stream",
          "text": [
            "Drive already mounted at /content/gdrive; to attempt to forcibly remount, call drive.mount(\"/content/gdrive\", force_remount=True).\n"
          ],
          "name": "stdout"
        }
      ]
    },
    {
      "cell_type": "markdown",
      "metadata": {
        "id": "q35iLdE4wdck"
      },
      "source": [
        "### Bibliotecas básicas"
      ]
    },
    {
      "cell_type": "code",
      "metadata": {
        "colab": {
          "base_uri": "https://localhost:8080/"
        },
        "id": "Gzgt8J4CxQMB",
        "outputId": "84197511-3406-492e-81c4-3f73a287b049"
      },
      "source": [
        "!pip install spellchecker\n",
        "!pip install pyspellchecker\n",
        "!pip install scattertext\n",
        "!python -m spacy download pt_core_news_sm\n",
        "!pip install -U yellowbrick"
      ],
      "execution_count": 2,
      "outputs": [
        {
          "output_type": "stream",
          "text": [
            "Requirement already satisfied: spellchecker in /usr/local/lib/python3.6/dist-packages (0.4)\n",
            "Requirement already satisfied: setuptools in /usr/local/lib/python3.6/dist-packages (from spellchecker) (50.3.2)\n",
            "Requirement already satisfied: inexactsearch in /usr/local/lib/python3.6/dist-packages (from spellchecker) (1.0.2)\n",
            "Requirement already satisfied: silpa-common>=0.3 in /usr/local/lib/python3.6/dist-packages (from inexactsearch->spellchecker) (0.3)\n",
            "Requirement already satisfied: soundex>=1.0 in /usr/local/lib/python3.6/dist-packages (from inexactsearch->spellchecker) (1.1.3)\n",
            "Requirement already satisfied: pyspellchecker in /usr/local/lib/python3.6/dist-packages (0.5.5)\n",
            "Requirement already satisfied: scattertext in /usr/local/lib/python3.6/dist-packages (0.0.2.72)\n",
            "Requirement already satisfied: statsmodels in /usr/local/lib/python3.6/dist-packages (from scattertext) (0.10.2)\n",
            "Requirement already satisfied: flashtext in /usr/local/lib/python3.6/dist-packages (from scattertext) (2.7)\n",
            "Requirement already satisfied: scikit-learn in /usr/local/lib/python3.6/dist-packages (from scattertext) (0.22.2.post1)\n",
            "Requirement already satisfied: scipy in /usr/local/lib/python3.6/dist-packages (from scattertext) (1.4.1)\n",
            "Requirement already satisfied: six in /usr/local/lib/python3.6/dist-packages (from scattertext) (1.15.0)\n",
            "Requirement already satisfied: mock in /usr/local/lib/python3.6/dist-packages (from scattertext) (4.0.2)\n",
            "Requirement already satisfied: numpy in /usr/local/lib/python3.6/dist-packages (from scattertext) (1.18.5)\n",
            "Requirement already satisfied: pandas in /usr/local/lib/python3.6/dist-packages (from scattertext) (1.1.4)\n",
            "Requirement already satisfied: patsy>=0.4.0 in /usr/local/lib/python3.6/dist-packages (from statsmodels->scattertext) (0.5.1)\n",
            "Requirement already satisfied: joblib>=0.11 in /usr/local/lib/python3.6/dist-packages (from scikit-learn->scattertext) (0.17.0)\n",
            "Requirement already satisfied: pytz>=2017.2 in /usr/local/lib/python3.6/dist-packages (from pandas->scattertext) (2018.9)\n",
            "Requirement already satisfied: python-dateutil>=2.7.3 in /usr/local/lib/python3.6/dist-packages (from pandas->scattertext) (2.8.1)\n",
            "Requirement already satisfied: pt_core_news_sm==2.2.5 from https://github.com/explosion/spacy-models/releases/download/pt_core_news_sm-2.2.5/pt_core_news_sm-2.2.5.tar.gz#egg=pt_core_news_sm==2.2.5 in /usr/local/lib/python3.6/dist-packages (2.2.5)\n",
            "Requirement already satisfied: spacy>=2.2.2 in /usr/local/lib/python3.6/dist-packages (from pt_core_news_sm==2.2.5) (2.2.4)\n",
            "Requirement already satisfied: wasabi<1.1.0,>=0.4.0 in /usr/local/lib/python3.6/dist-packages (from spacy>=2.2.2->pt_core_news_sm==2.2.5) (0.8.0)\n",
            "Requirement already satisfied: catalogue<1.1.0,>=0.0.7 in /usr/local/lib/python3.6/dist-packages (from spacy>=2.2.2->pt_core_news_sm==2.2.5) (1.0.0)\n",
            "Requirement already satisfied: preshed<3.1.0,>=3.0.2 in /usr/local/lib/python3.6/dist-packages (from spacy>=2.2.2->pt_core_news_sm==2.2.5) (3.0.4)\n",
            "Requirement already satisfied: tqdm<5.0.0,>=4.38.0 in /usr/local/lib/python3.6/dist-packages (from spacy>=2.2.2->pt_core_news_sm==2.2.5) (4.41.1)\n",
            "Requirement already satisfied: requests<3.0.0,>=2.13.0 in /usr/local/lib/python3.6/dist-packages (from spacy>=2.2.2->pt_core_news_sm==2.2.5) (2.23.0)\n",
            "Requirement already satisfied: cymem<2.1.0,>=2.0.2 in /usr/local/lib/python3.6/dist-packages (from spacy>=2.2.2->pt_core_news_sm==2.2.5) (2.0.4)\n",
            "Requirement already satisfied: setuptools in /usr/local/lib/python3.6/dist-packages (from spacy>=2.2.2->pt_core_news_sm==2.2.5) (50.3.2)\n",
            "Requirement already satisfied: plac<1.2.0,>=0.9.6 in /usr/local/lib/python3.6/dist-packages (from spacy>=2.2.2->pt_core_news_sm==2.2.5) (1.1.3)\n",
            "Requirement already satisfied: numpy>=1.15.0 in /usr/local/lib/python3.6/dist-packages (from spacy>=2.2.2->pt_core_news_sm==2.2.5) (1.18.5)\n",
            "Requirement already satisfied: murmurhash<1.1.0,>=0.28.0 in /usr/local/lib/python3.6/dist-packages (from spacy>=2.2.2->pt_core_news_sm==2.2.5) (1.0.4)\n",
            "Requirement already satisfied: srsly<1.1.0,>=1.0.2 in /usr/local/lib/python3.6/dist-packages (from spacy>=2.2.2->pt_core_news_sm==2.2.5) (1.0.4)\n",
            "Requirement already satisfied: thinc==7.4.0 in /usr/local/lib/python3.6/dist-packages (from spacy>=2.2.2->pt_core_news_sm==2.2.5) (7.4.0)\n",
            "Requirement already satisfied: blis<0.5.0,>=0.4.0 in /usr/local/lib/python3.6/dist-packages (from spacy>=2.2.2->pt_core_news_sm==2.2.5) (0.4.1)\n",
            "Requirement already satisfied: importlib-metadata>=0.20; python_version < \"3.8\" in /usr/local/lib/python3.6/dist-packages (from catalogue<1.1.0,>=0.0.7->spacy>=2.2.2->pt_core_news_sm==2.2.5) (2.0.0)\n",
            "Requirement already satisfied: urllib3!=1.25.0,!=1.25.1,<1.26,>=1.21.1 in /usr/local/lib/python3.6/dist-packages (from requests<3.0.0,>=2.13.0->spacy>=2.2.2->pt_core_news_sm==2.2.5) (1.24.3)\n",
            "Requirement already satisfied: idna<3,>=2.5 in /usr/local/lib/python3.6/dist-packages (from requests<3.0.0,>=2.13.0->spacy>=2.2.2->pt_core_news_sm==2.2.5) (2.10)\n",
            "Requirement already satisfied: chardet<4,>=3.0.2 in /usr/local/lib/python3.6/dist-packages (from requests<3.0.0,>=2.13.0->spacy>=2.2.2->pt_core_news_sm==2.2.5) (3.0.4)\n",
            "Requirement already satisfied: certifi>=2017.4.17 in /usr/local/lib/python3.6/dist-packages (from requests<3.0.0,>=2.13.0->spacy>=2.2.2->pt_core_news_sm==2.2.5) (2020.11.8)\n",
            "Requirement already satisfied: zipp>=0.5 in /usr/local/lib/python3.6/dist-packages (from importlib-metadata>=0.20; python_version < \"3.8\"->catalogue<1.1.0,>=0.0.7->spacy>=2.2.2->pt_core_news_sm==2.2.5) (3.4.0)\n",
            "\u001b[38;5;2m✔ Download and installation successful\u001b[0m\n",
            "You can now load the model via spacy.load('pt_core_news_sm')\n",
            "Requirement already up-to-date: yellowbrick in /usr/local/lib/python3.6/dist-packages (1.2)\n",
            "Requirement already satisfied, skipping upgrade: cycler>=0.10.0 in /usr/local/lib/python3.6/dist-packages (from yellowbrick) (0.10.0)\n",
            "Requirement already satisfied, skipping upgrade: scikit-learn>=0.20 in /usr/local/lib/python3.6/dist-packages (from yellowbrick) (0.22.2.post1)\n",
            "Requirement already satisfied, skipping upgrade: numpy>=1.13.0 in /usr/local/lib/python3.6/dist-packages (from yellowbrick) (1.18.5)\n",
            "Requirement already satisfied, skipping upgrade: matplotlib!=3.0.0,>=2.0.2 in /usr/local/lib/python3.6/dist-packages (from yellowbrick) (3.2.2)\n",
            "Requirement already satisfied, skipping upgrade: scipy>=1.0.0 in /usr/local/lib/python3.6/dist-packages (from yellowbrick) (1.4.1)\n",
            "Requirement already satisfied, skipping upgrade: six in /usr/local/lib/python3.6/dist-packages (from cycler>=0.10.0->yellowbrick) (1.15.0)\n",
            "Requirement already satisfied, skipping upgrade: joblib>=0.11 in /usr/local/lib/python3.6/dist-packages (from scikit-learn>=0.20->yellowbrick) (0.17.0)\n",
            "Requirement already satisfied, skipping upgrade: pyparsing!=2.0.4,!=2.1.2,!=2.1.6,>=2.0.1 in /usr/local/lib/python3.6/dist-packages (from matplotlib!=3.0.0,>=2.0.2->yellowbrick) (2.4.7)\n",
            "Requirement already satisfied, skipping upgrade: kiwisolver>=1.0.1 in /usr/local/lib/python3.6/dist-packages (from matplotlib!=3.0.0,>=2.0.2->yellowbrick) (1.3.1)\n",
            "Requirement already satisfied, skipping upgrade: python-dateutil>=2.1 in /usr/local/lib/python3.6/dist-packages (from matplotlib!=3.0.0,>=2.0.2->yellowbrick) (2.8.1)\n"
          ],
          "name": "stdout"
        }
      ]
    },
    {
      "cell_type": "code",
      "metadata": {
        "colab": {
          "base_uri": "https://localhost:8080/"
        },
        "id": "q2Hg2OtwwlZc",
        "outputId": "b80f5330-1216-45c9-a383-13ded780f00f"
      },
      "source": [
        "import nltk\n",
        "nltk.download('stopwords')\n",
        "nltk.download('punkt')"
      ],
      "execution_count": 3,
      "outputs": [
        {
          "output_type": "stream",
          "text": [
            "[nltk_data] Downloading package stopwords to /root/nltk_data...\n",
            "[nltk_data]   Package stopwords is already up-to-date!\n",
            "[nltk_data] Downloading package punkt to /root/nltk_data...\n",
            "[nltk_data]   Package punkt is already up-to-date!\n"
          ],
          "name": "stdout"
        },
        {
          "output_type": "execute_result",
          "data": {
            "text/plain": [
              "True"
            ]
          },
          "metadata": {
            "tags": []
          },
          "execution_count": 3
        }
      ]
    },
    {
      "cell_type": "code",
      "metadata": {
        "ExecuteTime": {
          "end_time": "2020-11-29T10:20:31.490651Z",
          "start_time": "2020-11-29T10:20:30.512181Z"
        },
        "colab": {
          "base_uri": "https://localhost:8080/"
        },
        "id": "27MXFKJmwdcl",
        "outputId": "83def82b-0378-49ab-b045-c0ba24d75f64"
      },
      "source": [
        "import numpy as np\n",
        "import pandas as pd\n",
        "\n",
        "import warnings\n",
        "warnings.filterwarnings('ignore')\n",
        "\n",
        "%run '/content/gdrive/MyDrive/Colab Notebooks/aed_projeto_4/modules/data.py'\n",
        "\n",
        "print(f'Versão Pandas: {pd.__version__}')\n",
        "print(f'Versão Numpy: {np.__version__}')\n",
        "\n",
        "pd.set_option('display.float_format', lambda x: '%.3f' % x);"
      ],
      "execution_count": 4,
      "outputs": [
        {
          "output_type": "stream",
          "text": [
            "Versão Pandas: 1.1.4\n",
            "Versão Numpy: 1.18.5\n"
          ],
          "name": "stdout"
        }
      ]
    },
    {
      "cell_type": "markdown",
      "metadata": {
        "ExecuteTime": {
          "end_time": "2020-11-01T11:45:52.649466Z",
          "start_time": "2020-11-01T11:45:52.646314Z"
        },
        "id": "JZ66JJtMwdcm"
      },
      "source": [
        "### Bibliotecas de visualização"
      ]
    },
    {
      "cell_type": "code",
      "metadata": {
        "ExecuteTime": {
          "end_time": "2020-11-29T10:20:31.845086Z",
          "start_time": "2020-11-29T10:20:31.496139Z"
        },
        "colab": {
          "base_uri": "https://localhost:8080/"
        },
        "id": "7XBtCdk7wdcm",
        "outputId": "0dfc8a8e-5044-4626-8cdf-95290cada432"
      },
      "source": [
        "import seaborn as sns\n",
        "import matplotlib\n",
        "import matplotlib.pyplot as plt\n",
        "\n",
        "%matplotlib inline\n",
        "matplotlib.style.use(['ggplot'])\n",
        "\n",
        "print(f'Versão Seaborn: {sns.__version__}')\n",
        "print(f'Versão Matplotlib: {matplotlib.__version__}')"
      ],
      "execution_count": 5,
      "outputs": [
        {
          "output_type": "stream",
          "text": [
            "Versão Seaborn: 0.11.0\n",
            "Versão Matplotlib: 3.2.2\n"
          ],
          "name": "stdout"
        }
      ]
    },
    {
      "cell_type": "code",
      "metadata": {
        "ExecuteTime": {
          "end_time": "2020-11-29T10:20:31.851744Z",
          "start_time": "2020-11-29T10:20:31.847916Z"
        },
        "id": "10ISa34Ywdcm"
      },
      "source": [
        "plt.rcParams['axes.facecolor']='white'\n",
        "plt.rcParams['font.family'] = 'Arial, Helvetica, sans-serif'"
      ],
      "execution_count": 6,
      "outputs": []
    },
    {
      "cell_type": "markdown",
      "metadata": {
        "id": "dEZXOAxOwdcm"
      },
      "source": [
        "### Dicionário dos dados"
      ]
    },
    {
      "cell_type": "markdown",
      "metadata": {
        "id": "KZWx9jxKwdcm"
      },
      "source": [
        "**domain**: domínio das resenhas\n",
        "\n",
        "**object**: aplicativo avaliado\n",
        "\n",
        "**author**: autor da avaliação (anonimizado)\n",
        "\n",
        "**text**: texto da avaliação\n",
        "\n",
        "**likes**: número de likes que a avaliação recebeu\n",
        "\n",
        "**unlikes**: número de deslikes que a avaliação recebeu\n",
        "\n",
        "**stars**: número de estrelas dada na avaliação\n",
        "\n",
        "**date**: data da avaliação\n",
        "\n",
        "**internal_id**: identificador"
      ]
    },
    {
      "cell_type": "markdown",
      "metadata": {
        "id": "6nRygOqBwdcm"
      },
      "source": [
        "### Carregamento dos dados"
      ]
    },
    {
      "cell_type": "code",
      "metadata": {
        "ExecuteTime": {
          "end_time": "2020-11-29T10:20:47.527862Z",
          "start_time": "2020-11-29T10:20:31.854581Z"
        },
        "colab": {
          "base_uri": "https://localhost:8080/"
        },
        "id": "aCA60wT2wdcm",
        "outputId": "424aaf52-265d-40c7-9db0-9ad62d2135ff"
      },
      "source": [
        "data = pd.read_csv('/content/gdrive/MyDrive/Colab Notebooks/aed_projeto_4/data/UTLCorpus.csv')\n",
        "print(f'Linhas: {data.shape[0]} | Colunas: {data.shape[1]}')"
      ],
      "execution_count": 7,
      "outputs": [
        {
          "output_type": "stream",
          "text": [
            "Linhas: 2881589 | Colunas: 16\n"
          ],
          "name": "stdout"
        }
      ]
    },
    {
      "cell_type": "markdown",
      "metadata": {
        "id": "DUgTvqlUwdcm"
      },
      "source": [
        "### Escolha do domínio"
      ]
    },
    {
      "cell_type": "code",
      "metadata": {
        "ExecuteTime": {
          "end_time": "2020-11-29T10:20:47.956583Z",
          "start_time": "2020-11-29T10:20:47.532990Z"
        },
        "colab": {
          "base_uri": "https://localhost:8080/"
        },
        "id": "SCnZs6qZwdcn",
        "outputId": "1100197c-a769-450e-8c1f-b48de6adf5ff"
      },
      "source": [
        "apps = data.query('domain==\"apps\"')\n",
        "apps.drop(['Unnamed: 0', 'replies', 'favorite', 'want_see', 'recommend', 'see', 'collect_date'], axis=1, inplace=True)\n",
        "apps.reset_index(drop=True, inplace=True)\n",
        "print(f'Linhas: {apps.shape[0]} | Colunas: {apps.shape[1]}')"
      ],
      "execution_count": 8,
      "outputs": [
        {
          "output_type": "stream",
          "text": [
            "Linhas: 1041738 | Colunas: 9\n"
          ],
          "name": "stdout"
        }
      ]
    },
    {
      "cell_type": "markdown",
      "metadata": {
        "id": "Yrsj6-5Rwdcn"
      },
      "source": [
        "### Características dos dados"
      ]
    },
    {
      "cell_type": "code",
      "metadata": {
        "ExecuteTime": {
          "end_time": "2020-11-29T10:20:47.983272Z",
          "start_time": "2020-11-29T10:20:47.960941Z"
        },
        "colab": {
          "base_uri": "https://localhost:8080/",
          "height": 195
        },
        "id": "pK5tEoOwwdcn",
        "outputId": "dcee5822-a3c4-4170-e5b7-3cb64c2d2480"
      },
      "source": [
        "apps.head()"
      ],
      "execution_count": 9,
      "outputs": [
        {
          "output_type": "execute_result",
          "data": {
            "text/html": [
              "<div>\n",
              "<style scoped>\n",
              "    .dataframe tbody tr th:only-of-type {\n",
              "        vertical-align: middle;\n",
              "    }\n",
              "\n",
              "    .dataframe tbody tr th {\n",
              "        vertical-align: top;\n",
              "    }\n",
              "\n",
              "    .dataframe thead th {\n",
              "        text-align: right;\n",
              "    }\n",
              "</style>\n",
              "<table border=\"1\" class=\"dataframe\">\n",
              "  <thead>\n",
              "    <tr style=\"text-align: right;\">\n",
              "      <th></th>\n",
              "      <th>domain</th>\n",
              "      <th>object</th>\n",
              "      <th>author</th>\n",
              "      <th>text</th>\n",
              "      <th>likes</th>\n",
              "      <th>unlikes</th>\n",
              "      <th>stars</th>\n",
              "      <th>date</th>\n",
              "      <th>internal_id</th>\n",
              "    </tr>\n",
              "  </thead>\n",
              "  <tbody>\n",
              "    <tr>\n",
              "      <th>0</th>\n",
              "      <td>apps</td>\n",
              "      <td>air.com.hypah.io.slither</td>\n",
              "      <td>0</td>\n",
              "      <td>Adorei, podia melhorar em vários detalhes, por...</td>\n",
              "      <td>1100</td>\n",
              "      <td>0</td>\n",
              "      <td>5.000</td>\n",
              "      <td>22 de janeiro de 2019</td>\n",
              "      <td>0</td>\n",
              "    </tr>\n",
              "    <tr>\n",
              "      <th>1</th>\n",
              "      <td>apps</td>\n",
              "      <td>air.com.hypah.io.slither</td>\n",
              "      <td>1</td>\n",
              "      <td>17 de março, estamos no ps4 jogando r6, e talv...</td>\n",
              "      <td>152</td>\n",
              "      <td>0</td>\n",
              "      <td>5.000</td>\n",
              "      <td>17 de março de 2019</td>\n",
              "      <td>1</td>\n",
              "    </tr>\n",
              "    <tr>\n",
              "      <th>2</th>\n",
              "      <td>apps</td>\n",
              "      <td>air.com.hypah.io.slither</td>\n",
              "      <td>2</td>\n",
              "      <td>É um jogo bom hzbsbbsbdjdjkaklloosjbsbzbsbhhHA...</td>\n",
              "      <td>0</td>\n",
              "      <td>0</td>\n",
              "      <td>5.000</td>\n",
              "      <td>3 de março de 2019</td>\n",
              "      <td>2</td>\n",
              "    </tr>\n",
              "    <tr>\n",
              "      <th>3</th>\n",
              "      <td>apps</td>\n",
              "      <td>air.com.hypah.io.slither</td>\n",
              "      <td>3</td>\n",
              "      <td>O jogo e mais o menos um pouco bom só que ele ...</td>\n",
              "      <td>0</td>\n",
              "      <td>0</td>\n",
              "      <td>2.000</td>\n",
              "      <td>1 de abril de 2019</td>\n",
              "      <td>3</td>\n",
              "    </tr>\n",
              "    <tr>\n",
              "      <th>4</th>\n",
              "      <td>apps</td>\n",
              "      <td>air.com.hypah.io.slither</td>\n",
              "      <td>4</td>\n",
              "      <td>0. JOGO. E. MUITO. CHATO. MAIS. E. RASUAVEL. V...</td>\n",
              "      <td>0</td>\n",
              "      <td>0</td>\n",
              "      <td>2.000</td>\n",
              "      <td>6 de abril de 2019</td>\n",
              "      <td>4</td>\n",
              "    </tr>\n",
              "  </tbody>\n",
              "</table>\n",
              "</div>"
            ],
            "text/plain": [
              "  domain                    object  ...                   date internal_id\n",
              "0   apps  air.com.hypah.io.slither  ...  22 de janeiro de 2019           0\n",
              "1   apps  air.com.hypah.io.slither  ...    17 de março de 2019           1\n",
              "2   apps  air.com.hypah.io.slither  ...     3 de março de 2019           2\n",
              "3   apps  air.com.hypah.io.slither  ...     1 de abril de 2019           3\n",
              "4   apps  air.com.hypah.io.slither  ...     6 de abril de 2019           4\n",
              "\n",
              "[5 rows x 9 columns]"
            ]
          },
          "metadata": {
            "tags": []
          },
          "execution_count": 9
        }
      ]
    },
    {
      "cell_type": "code",
      "metadata": {
        "ExecuteTime": {
          "end_time": "2020-11-29T10:20:48.153773Z",
          "start_time": "2020-11-29T10:20:47.985814Z"
        },
        "colab": {
          "base_uri": "https://localhost:8080/"
        },
        "id": "vdi7EMcKwdcn",
        "outputId": "33659e47-ae14-423e-d8b6-80714a492689"
      },
      "source": [
        "print(f'Colunas presentes: {apps.columns.values}')"
      ],
      "execution_count": 10,
      "outputs": [
        {
          "output_type": "stream",
          "text": [
            "Colunas presentes: ['domain' 'object' 'author' 'text' 'likes' 'unlikes' 'stars' 'date'\n",
            " 'internal_id']\n"
          ],
          "name": "stdout"
        }
      ]
    },
    {
      "cell_type": "code",
      "metadata": {
        "ExecuteTime": {
          "end_time": "2020-11-29T10:20:48.251959Z",
          "start_time": "2020-11-29T10:20:48.157472Z"
        },
        "colab": {
          "base_uri": "https://localhost:8080/"
        },
        "id": "h4AEdbGjwdcn",
        "outputId": "b490f619-ebfd-475b-80dc-4fbb2acb6a89"
      },
      "source": [
        "print(f'Tipos dos dados: {apps.dtypes.unique()}')"
      ],
      "execution_count": 11,
      "outputs": [
        {
          "output_type": "stream",
          "text": [
            "Tipos dos dados: [dtype('O') dtype('int64') dtype('float64')]\n"
          ],
          "name": "stdout"
        }
      ]
    },
    {
      "cell_type": "markdown",
      "metadata": {
        "id": "IpdhNvYYwdcn"
      },
      "source": [
        "### Informação dos dados"
      ]
    },
    {
      "cell_type": "code",
      "metadata": {
        "ExecuteTime": {
          "end_time": "2020-11-29T10:20:48.697352Z",
          "start_time": "2020-11-29T10:20:48.254806Z"
        },
        "colab": {
          "base_uri": "https://localhost:8080/"
        },
        "id": "O85Z3-Xxwdcn",
        "outputId": "053f040a-b54e-4a8d-97cb-b37a724db3e4"
      },
      "source": [
        "apps.info()"
      ],
      "execution_count": 12,
      "outputs": [
        {
          "output_type": "stream",
          "text": [
            "<class 'pandas.core.frame.DataFrame'>\n",
            "RangeIndex: 1041738 entries, 0 to 1041737\n",
            "Data columns (total 9 columns):\n",
            " #   Column       Non-Null Count    Dtype  \n",
            "---  ------       --------------    -----  \n",
            " 0   domain       1041738 non-null  object \n",
            " 1   object       1041738 non-null  object \n",
            " 2   author       1041738 non-null  int64  \n",
            " 3   text         1039542 non-null  object \n",
            " 4   likes        1041738 non-null  int64  \n",
            " 5   unlikes      1041738 non-null  int64  \n",
            " 6   stars        1041738 non-null  float64\n",
            " 7   date         1041738 non-null  object \n",
            " 8   internal_id  1041738 non-null  int64  \n",
            "dtypes: float64(1), int64(4), object(4)\n",
            "memory usage: 71.5+ MB\n"
          ],
          "name": "stdout"
        }
      ]
    },
    {
      "cell_type": "markdown",
      "metadata": {
        "id": "i0kEHD5dwdcn"
      },
      "source": [
        "### Descrição dos dados"
      ]
    },
    {
      "cell_type": "code",
      "metadata": {
        "ExecuteTime": {
          "end_time": "2020-11-29T10:20:49.054462Z",
          "start_time": "2020-11-29T10:20:48.700109Z"
        },
        "colab": {
          "base_uri": "https://localhost:8080/",
          "height": 284
        },
        "id": "5WzWuAaKwdcn",
        "outputId": "44dc9eb8-5e11-4b92-e950-02e4273b2685"
      },
      "source": [
        "apps.drop(['author', 'internal_id'], axis=1).describe()"
      ],
      "execution_count": 13,
      "outputs": [
        {
          "output_type": "execute_result",
          "data": {
            "text/html": [
              "<div>\n",
              "<style scoped>\n",
              "    .dataframe tbody tr th:only-of-type {\n",
              "        vertical-align: middle;\n",
              "    }\n",
              "\n",
              "    .dataframe tbody tr th {\n",
              "        vertical-align: top;\n",
              "    }\n",
              "\n",
              "    .dataframe thead th {\n",
              "        text-align: right;\n",
              "    }\n",
              "</style>\n",
              "<table border=\"1\" class=\"dataframe\">\n",
              "  <thead>\n",
              "    <tr style=\"text-align: right;\">\n",
              "      <th></th>\n",
              "      <th>likes</th>\n",
              "      <th>unlikes</th>\n",
              "      <th>stars</th>\n",
              "    </tr>\n",
              "  </thead>\n",
              "  <tbody>\n",
              "    <tr>\n",
              "      <th>count</th>\n",
              "      <td>1041738.000</td>\n",
              "      <td>1041738.000</td>\n",
              "      <td>1041738.000</td>\n",
              "    </tr>\n",
              "    <tr>\n",
              "      <th>mean</th>\n",
              "      <td>6.016</td>\n",
              "      <td>0.000</td>\n",
              "      <td>3.957</td>\n",
              "    </tr>\n",
              "    <tr>\n",
              "      <th>std</th>\n",
              "      <td>86.191</td>\n",
              "      <td>0.000</td>\n",
              "      <td>1.528</td>\n",
              "    </tr>\n",
              "    <tr>\n",
              "      <th>min</th>\n",
              "      <td>0.000</td>\n",
              "      <td>0.000</td>\n",
              "      <td>0.000</td>\n",
              "    </tr>\n",
              "    <tr>\n",
              "      <th>25%</th>\n",
              "      <td>0.000</td>\n",
              "      <td>0.000</td>\n",
              "      <td>3.000</td>\n",
              "    </tr>\n",
              "    <tr>\n",
              "      <th>50%</th>\n",
              "      <td>0.000</td>\n",
              "      <td>0.000</td>\n",
              "      <td>5.000</td>\n",
              "    </tr>\n",
              "    <tr>\n",
              "      <th>75%</th>\n",
              "      <td>0.000</td>\n",
              "      <td>0.000</td>\n",
              "      <td>5.000</td>\n",
              "    </tr>\n",
              "    <tr>\n",
              "      <th>max</th>\n",
              "      <td>20146.000</td>\n",
              "      <td>0.000</td>\n",
              "      <td>5.000</td>\n",
              "    </tr>\n",
              "  </tbody>\n",
              "</table>\n",
              "</div>"
            ],
            "text/plain": [
              "            likes     unlikes       stars\n",
              "count 1041738.000 1041738.000 1041738.000\n",
              "mean        6.016       0.000       3.957\n",
              "std        86.191       0.000       1.528\n",
              "min         0.000       0.000       0.000\n",
              "25%         0.000       0.000       3.000\n",
              "50%         0.000       0.000       5.000\n",
              "75%         0.000       0.000       5.000\n",
              "max     20146.000       0.000       5.000"
            ]
          },
          "metadata": {
            "tags": []
          },
          "execution_count": 13
        }
      ]
    },
    {
      "cell_type": "code",
      "metadata": {
        "ExecuteTime": {
          "end_time": "2020-11-29T10:20:51.509307Z",
          "start_time": "2020-11-29T10:20:49.057313Z"
        },
        "colab": {
          "base_uri": "https://localhost:8080/",
          "height": 166
        },
        "id": "IX0y_V52wdcn",
        "outputId": "bb207392-ea11-4263-eaaa-d67a15b9c168"
      },
      "source": [
        "apps[['object', 'text', 'date']].describe(include='O')"
      ],
      "execution_count": 14,
      "outputs": [
        {
          "output_type": "execute_result",
          "data": {
            "text/html": [
              "<div>\n",
              "<style scoped>\n",
              "    .dataframe tbody tr th:only-of-type {\n",
              "        vertical-align: middle;\n",
              "    }\n",
              "\n",
              "    .dataframe tbody tr th {\n",
              "        vertical-align: top;\n",
              "    }\n",
              "\n",
              "    .dataframe thead th {\n",
              "        text-align: right;\n",
              "    }\n",
              "</style>\n",
              "<table border=\"1\" class=\"dataframe\">\n",
              "  <thead>\n",
              "    <tr style=\"text-align: right;\">\n",
              "      <th></th>\n",
              "      <th>object</th>\n",
              "      <th>text</th>\n",
              "      <th>date</th>\n",
              "    </tr>\n",
              "  </thead>\n",
              "  <tbody>\n",
              "    <tr>\n",
              "      <th>count</th>\n",
              "      <td>1041738</td>\n",
              "      <td>1039542</td>\n",
              "      <td>1041738</td>\n",
              "    </tr>\n",
              "    <tr>\n",
              "      <th>unique</th>\n",
              "      <td>233</td>\n",
              "      <td>809232</td>\n",
              "      <td>2879</td>\n",
              "    </tr>\n",
              "    <tr>\n",
              "      <th>top</th>\n",
              "      <td>br.com.vivo</td>\n",
              "      <td>muito bom</td>\n",
              "      <td>29 de março de 2019</td>\n",
              "    </tr>\n",
              "    <tr>\n",
              "      <th>freq</th>\n",
              "      <td>5080</td>\n",
              "      <td>17946</td>\n",
              "      <td>16863</td>\n",
              "    </tr>\n",
              "  </tbody>\n",
              "</table>\n",
              "</div>"
            ],
            "text/plain": [
              "             object       text                 date\n",
              "count       1041738    1039542              1041738\n",
              "unique          233     809232                 2879\n",
              "top     br.com.vivo  muito bom  29 de março de 2019\n",
              "freq           5080      17946                16863"
            ]
          },
          "metadata": {
            "tags": []
          },
          "execution_count": 14
        }
      ]
    },
    {
      "cell_type": "markdown",
      "metadata": {
        "id": "ruEdBoNlwdcn"
      },
      "source": [
        "### Valores nulos"
      ]
    },
    {
      "cell_type": "code",
      "metadata": {
        "ExecuteTime": {
          "end_time": "2020-11-29T10:20:52.152344Z",
          "start_time": "2020-11-29T10:20:51.512166Z"
        },
        "colab": {
          "base_uri": "https://localhost:8080/",
          "height": 107
        },
        "id": "x2P0fjJCwdcn",
        "outputId": "00074767-c361-4ff4-d89f-ee36bd603e1f"
      },
      "source": [
        "data_missing = pd.DataFrame({'nomes': apps.columns, \n",
        "                             'tipos': apps.dtypes, \n",
        "                             'NA #': apps.isna().sum(),\n",
        "                             'NA %': (apps.isna().sum() / apps.shape[0]) * 100\n",
        "                            })\n",
        "\n",
        "data_missing[data_missing['NA #'] > 0].set_index('nomes')"
      ],
      "execution_count": 15,
      "outputs": [
        {
          "output_type": "execute_result",
          "data": {
            "text/html": [
              "<div>\n",
              "<style scoped>\n",
              "    .dataframe tbody tr th:only-of-type {\n",
              "        vertical-align: middle;\n",
              "    }\n",
              "\n",
              "    .dataframe tbody tr th {\n",
              "        vertical-align: top;\n",
              "    }\n",
              "\n",
              "    .dataframe thead th {\n",
              "        text-align: right;\n",
              "    }\n",
              "</style>\n",
              "<table border=\"1\" class=\"dataframe\">\n",
              "  <thead>\n",
              "    <tr style=\"text-align: right;\">\n",
              "      <th></th>\n",
              "      <th>tipos</th>\n",
              "      <th>NA #</th>\n",
              "      <th>NA %</th>\n",
              "    </tr>\n",
              "    <tr>\n",
              "      <th>nomes</th>\n",
              "      <th></th>\n",
              "      <th></th>\n",
              "      <th></th>\n",
              "    </tr>\n",
              "  </thead>\n",
              "  <tbody>\n",
              "    <tr>\n",
              "      <th>text</th>\n",
              "      <td>object</td>\n",
              "      <td>2196</td>\n",
              "      <td>0.211</td>\n",
              "    </tr>\n",
              "  </tbody>\n",
              "</table>\n",
              "</div>"
            ],
            "text/plain": [
              "        tipos  NA #  NA %\n",
              "nomes                    \n",
              "text   object  2196 0.211"
            ]
          },
          "metadata": {
            "tags": []
          },
          "execution_count": 15
        }
      ]
    },
    {
      "cell_type": "code",
      "metadata": {
        "ExecuteTime": {
          "end_time": "2020-11-29T10:20:53.498218Z",
          "start_time": "2020-11-29T10:20:52.155735Z"
        },
        "colab": {
          "base_uri": "https://localhost:8080/",
          "height": 534
        },
        "id": "DXi-Cqmewdco",
        "outputId": "ab0d062c-a0ba-4d1d-aacf-e94250f2760d"
      },
      "source": [
        "import missingno as msno\n",
        "\n",
        "msno.bar(apps, figsize=[12, 6])\n",
        "plt.title('Visualizando os dados faltantes', y=1.25, size=16, loc='left')\n",
        "plt.show()"
      ],
      "execution_count": 16,
      "outputs": [
        {
          "output_type": "display_data",
          "data": {
            "image/png": "[encoded data removed]",
            "text/plain": [
              "<Figure size 864x432 with 3 Axes>"
            ]
          },
          "metadata": {
            "tags": []
          }
        }
      ]
    },
    {
      "cell_type": "markdown",
      "metadata": {
        "id": "ZIz9mR3rwdco"
      },
      "source": [
        "#### Remoção das linhas com texto nulos"
      ]
    },
    {
      "cell_type": "code",
      "metadata": {
        "ExecuteTime": {
          "end_time": "2020-11-29T10:20:54.277586Z",
          "start_time": "2020-11-29T10:20:53.501612Z"
        },
        "colab": {
          "base_uri": "https://localhost:8080/"
        },
        "id": "tfdcBgFGwdco",
        "outputId": "d1a08677-0c26-4950-a856-791d1f857bf7"
      },
      "source": [
        "apps.dropna(inplace=True)\n",
        "print('Conferindo a remoção dos valores nulos: ')\n",
        "apps.isna().sum()"
      ],
      "execution_count": 17,
      "outputs": [
        {
          "output_type": "stream",
          "text": [
            "Conferindo a remoção dos valores nulos: \n"
          ],
          "name": "stdout"
        },
        {
          "output_type": "execute_result",
          "data": {
            "text/plain": [
              "domain         0\n",
              "object         0\n",
              "author         0\n",
              "text           0\n",
              "likes          0\n",
              "unlikes        0\n",
              "stars          0\n",
              "date           0\n",
              "internal_id    0\n",
              "dtype: int64"
            ]
          },
          "metadata": {
            "tags": []
          },
          "execution_count": 17
        }
      ]
    },
    {
      "cell_type": "markdown",
      "metadata": {
        "id": "82EitJYmwdco"
      },
      "source": [
        "### Definição dos rótulos\n",
        "\n",
        "<p align='justify'>Cada crítica tem uma pontuação de 0 a 5 estrelas:</p>\n",
        "\n",
        "- 0 e 5: serão descartadas para evitar os casos em que as estrelas do usuário não são coerentes com o texto da avaliação.\n",
        " \n",
        "- 1 e 2: negativa\n",
        "\n",
        "- 3: serão descartadas, porque geralmente contêm opiniões positivas e negativas.\n",
        "\n",
        "- 4: positiva\n",
        "\n",
        "<p align='justify'>Baseada na metodologia explicada neste artigo: <a href='https://www.teses.usp.br/teses/disponiveis/55/55134/tde-24032016-171420/pt-br.php'>Sobre normalização e classificação de polaridade de textos opinativos na web</a></p>"
      ]
    },
    {
      "cell_type": "markdown",
      "metadata": {
        "id": "X_XSU01Iwdco"
      },
      "source": [
        "#### Distribuição das estrelas"
      ]
    },
    {
      "cell_type": "code",
      "metadata": {
        "ExecuteTime": {
          "end_time": "2020-11-29T10:20:54.322332Z",
          "start_time": "2020-11-29T10:20:54.281184Z"
        },
        "colab": {
          "base_uri": "https://localhost:8080/"
        },
        "id": "BLyrR2Njwdco",
        "outputId": "2602dca7-e81d-43c2-a86a-3a3e5bc3d41c"
      },
      "source": [
        "apps['stars'].value_counts()"
      ],
      "execution_count": 18,
      "outputs": [
        {
          "output_type": "execute_result",
          "data": {
            "text/plain": [
              "5.000    632365\n",
              "1.000    170877\n",
              "4.000    118379\n",
              "3.000     70677\n",
              "2.000     47237\n",
              "0.000         7\n",
              "Name: stars, dtype: int64"
            ]
          },
          "metadata": {
            "tags": []
          },
          "execution_count": 18
        }
      ]
    },
    {
      "cell_type": "markdown",
      "metadata": {
        "id": "UWWx0E2cwdco"
      },
      "source": [
        "#### Exemplo de opinião negativa e positiva no mesmo texto"
      ]
    },
    {
      "cell_type": "code",
      "metadata": {
        "ExecuteTime": {
          "end_time": "2020-11-29T10:20:54.459147Z",
          "start_time": "2020-11-29T10:20:54.325425Z"
        },
        "colab": {
          "base_uri": "https://localhost:8080/"
        },
        "id": "Vhtaqy1Uwdco",
        "outputId": "ccc6f4dd-6f52-412e-8187-a8e42735ad60"
      },
      "source": [
        "print(apps[apps.index==92][['text', 'stars']].values[0])"
      ],
      "execution_count": 19,
      "outputs": [
        {
          "output_type": "stream",
          "text": [
            "['O jogo é bom, mas ele tem muita propaganda e além disso ele trava demais'\n",
            " 3.0]\n"
          ],
          "name": "stdout"
        }
      ]
    },
    {
      "cell_type": "markdown",
      "metadata": {
        "id": "2Q9ucEHewdco"
      },
      "source": [
        "#### Exemplo de texto em que a estrela do usuário não é coerente com o texto"
      ]
    },
    {
      "cell_type": "code",
      "metadata": {
        "ExecuteTime": {
          "end_time": "2020-11-29T10:20:54.557835Z",
          "start_time": "2020-11-29T10:20:54.462752Z"
        },
        "colab": {
          "base_uri": "https://localhost:8080/"
        },
        "id": "S1uQfTmtwdco",
        "outputId": "5b53c48f-100f-4c87-b4bf-e621ae07a43a"
      },
      "source": [
        "print(apps[apps.index==319073][['text', 'stars']].values[0])"
      ],
      "execution_count": 20,
      "outputs": [
        {
          "output_type": "stream",
          "text": [
            "['Gostei, acompanho vários esportes no msm lugar. Funfa muito bem no Galaxy S'\n",
            " 0.0]\n"
          ],
          "name": "stdout"
        }
      ]
    },
    {
      "cell_type": "markdown",
      "metadata": {
        "id": "_qREn-QPwdco"
      },
      "source": [
        "#### Seleção das classificações com 1, 2 e 4 estrelas"
      ]
    },
    {
      "cell_type": "code",
      "metadata": {
        "ExecuteTime": {
          "end_time": "2020-11-29T10:20:54.820206Z",
          "start_time": "2020-11-29T10:20:54.563218Z"
        },
        "colab": {
          "base_uri": "https://localhost:8080/"
        },
        "id": "8A1FvnYtwdco",
        "outputId": "ac6e6b82-c338-4dcc-cd5a-e6b0698eddcc"
      },
      "source": [
        "apps = apps.query('stars==1 or stars==2 or stars==4')\n",
        "apps.reset_index(drop=True, inplace=True)\n",
        "print(f'Linhas: {apps.shape[0]} | Colunas: {apps.shape[1]}')"
      ],
      "execution_count": 21,
      "outputs": [
        {
          "output_type": "stream",
          "text": [
            "Linhas: 336493 | Colunas: 9\n"
          ],
          "name": "stdout"
        }
      ]
    },
    {
      "cell_type": "markdown",
      "metadata": {
        "id": "c4P9RzDwwdco"
      },
      "source": [
        "#### Criação dos rótulos para as classificações"
      ]
    },
    {
      "cell_type": "code",
      "metadata": {
        "ExecuteTime": {
          "end_time": "2020-11-29T10:20:54.967667Z",
          "start_time": "2020-11-29T10:20:54.823101Z"
        },
        "colab": {
          "base_uri": "https://localhost:8080/"
        },
        "id": "8UP6vQd-wdco",
        "outputId": "58ee0b24-a1f7-412c-f5e4-b1cee3d980b9"
      },
      "source": [
        "labels_map = {1 : 'negativo', 2: 'negativo', 4: 'positivo'}\n",
        "apps['rating'] = apps['stars'].map(labels_map)\n",
        "apps['rating'].value_counts()"
      ],
      "execution_count": 22,
      "outputs": [
        {
          "output_type": "execute_result",
          "data": {
            "text/plain": [
              "negativo    218114\n",
              "positivo    118379\n",
              "Name: rating, dtype: int64"
            ]
          },
          "metadata": {
            "tags": []
          },
          "execution_count": 22
        }
      ]
    },
    {
      "cell_type": "markdown",
      "metadata": {
        "id": "0rnudonuwdco"
      },
      "source": [
        "### Exemplos dos textos"
      ]
    },
    {
      "cell_type": "code",
      "metadata": {
        "ExecuteTime": {
          "end_time": "2020-11-29T10:20:55.145926Z",
          "start_time": "2020-11-29T10:20:54.970465Z"
        },
        "colab": {
          "base_uri": "https://localhost:8080/"
        },
        "id": "HM0vx8Dkwdco",
        "outputId": "2ee9ad21-8681-4d59-ff7d-1a1c6291923d"
      },
      "source": [
        "printExample(4, apps)"
      ],
      "execution_count": 23,
      "outputs": [
        {
          "output_type": "stream",
          "text": [
            "Text: Eu quero que arrume tem muito comerciais falças quando você acaba de perde quando você sai ai tem comerciais eu ficou unvido musica com esse jogo quando chegar outro comeciau ele pausa a musica\n",
            "Rating: negativo\n",
            "Stars: 1.0\n"
          ],
          "name": "stdout"
        }
      ]
    },
    {
      "cell_type": "code",
      "metadata": {
        "ExecuteTime": {
          "end_time": "2020-11-29T10:20:55.241946Z",
          "start_time": "2020-11-29T10:20:55.148339Z"
        },
        "colab": {
          "base_uri": "https://localhost:8080/"
        },
        "id": "T19kNPMywdco",
        "outputId": "330b6a13-9dc9-4ad5-8173-b097003708f7"
      },
      "source": [
        "printExample(0, apps)"
      ],
      "execution_count": 24,
      "outputs": [
        {
          "output_type": "stream",
          "text": [
            "Text: O jogo e mais o menos um pouco bom só que ele fica travando muito no meu celula ñ curti muito mais dou duas estrelas\n",
            "Rating: negativo\n",
            "Stars: 2.0\n"
          ],
          "name": "stdout"
        }
      ]
    },
    {
      "cell_type": "code",
      "metadata": {
        "ExecuteTime": {
          "end_time": "2020-11-29T10:20:55.340709Z",
          "start_time": "2020-11-29T10:20:55.245742Z"
        },
        "colab": {
          "base_uri": "https://localhost:8080/"
        },
        "id": "x7fqBjfQwdcp",
        "outputId": "623814ff-d71d-4d06-fcd9-0f9ed134c486"
      },
      "source": [
        "printExample(2, apps)"
      ],
      "execution_count": 25,
      "outputs": [
        {
          "output_type": "stream",
          "text": [
            "Text: sabe o jogo é muito bom tem feito um sucesso imenso, não quero choramingar mas quando a gente esta no nível supremo e alguem mata vc é de ficar puto da vida\n",
            "Rating: positivo\n",
            "Stars: 4.0\n"
          ],
          "name": "stdout"
        }
      ]
    },
    {
      "cell_type": "markdown",
      "metadata": {
        "id": "3CHR-u_Iwdcp"
      },
      "source": [
        "### Amostragem dos dados\n",
        "\n",
        "<p align='justify'>Devido ao custo computacional, será usada apenas uma amostra 70.000 dados.</p>"
      ]
    },
    {
      "cell_type": "code",
      "metadata": {
        "ExecuteTime": {
          "end_time": "2020-11-29T10:20:55.824130Z",
          "start_time": "2020-11-29T10:20:55.346153Z"
        },
        "colab": {
          "base_uri": "https://localhost:8080/"
        },
        "id": "yNgFZZfAwdcp",
        "outputId": "8bd6e77a-abfa-41d1-cb37-66122c65b673"
      },
      "source": [
        "apps = apps.groupby(['rating']).apply(lambda x : x.sample(n=35000, replace=False))\n",
        "apps.reset_index(drop=True, inplace=True)\n",
        "print(apps['rating'].value_counts())"
      ],
      "execution_count": 26,
      "outputs": [
        {
          "output_type": "stream",
          "text": [
            "positivo    35000\n",
            "negativo    35000\n",
            "Name: rating, dtype: int64\n"
          ],
          "name": "stdout"
        }
      ]
    },
    {
      "cell_type": "markdown",
      "metadata": {
        "id": "EqcCP2i-wdcp"
      },
      "source": [
        "### Limpeza dos dados"
      ]
    },
    {
      "cell_type": "code",
      "metadata": {
        "ExecuteTime": {
          "end_time": "2020-11-29T10:20:55.830992Z",
          "start_time": "2020-11-29T10:20:55.827266Z"
        },
        "id": "cncFskR5wdcp"
      },
      "source": [
        "# from tqdm import tqdm\n",
        "\n",
        "# for text in tqdm(apps['text']):\n",
        "#     apps['text'] = apps['text'].apply(cleaning)\n",
        "    \n",
        "# apps.to_csv('data/data_cleaned.csv', index=False)"
      ],
      "execution_count": 27,
      "outputs": []
    },
    {
      "cell_type": "markdown",
      "metadata": {
        "id": "OLFUsdHOwdcp"
      },
      "source": [
        "### Dados pré-processados"
      ]
    },
    {
      "cell_type": "code",
      "metadata": {
        "ExecuteTime": {
          "end_time": "2020-11-29T10:20:56.726931Z",
          "start_time": "2020-11-29T10:20:55.834038Z"
        },
        "colab": {
          "base_uri": "https://localhost:8080/"
        },
        "id": "v2S8LJ4pwdcp",
        "outputId": "563808ac-dc3b-4e45-f196-46a0a64e03e5"
      },
      "source": [
        "apps = pd.read_csv('/content/gdrive/MyDrive/Colab Notebooks/aed_projeto_4/data/data_cleaned.csv')\n",
        "print(f'Linhas: {apps.shape[0]} | Colunas: {apps.shape[1]}')"
      ],
      "execution_count": 28,
      "outputs": [
        {
          "output_type": "stream",
          "text": [
            "Linhas: 70000 | Colunas: 11\n"
          ],
          "name": "stdout"
        }
      ]
    },
    {
      "cell_type": "markdown",
      "metadata": {
        "id": "GEJb4J3p5B4c"
      },
      "source": [
        "### Seleção de features"
      ]
    },
    {
      "cell_type": "code",
      "metadata": {
        "colab": {
          "base_uri": "https://localhost:8080/"
        },
        "id": "xCeFZdcc5FiG",
        "outputId": "2562af1e-b35e-4cd5-deb4-e39542c71b61"
      },
      "source": [
        "apps = apps.drop(['text', 'author', 'date', 'internal_id', 'likes', 'object', 'stars', 'unlikes', 'domain'], axis=1)\n",
        "print(f'Linhas: {apps.shape[0]} | Colunas: {apps.shape[1]}')"
      ],
      "execution_count": 29,
      "outputs": [
        {
          "output_type": "stream",
          "text": [
            "Linhas: 70000 | Colunas: 2\n"
          ],
          "name": "stdout"
        }
      ]
    },
    {
      "cell_type": "markdown",
      "metadata": {
        "id": "IDLnj1lfwdcp"
      },
      "source": [
        "### Embaralhamento dos dados"
      ]
    },
    {
      "cell_type": "code",
      "metadata": {
        "ExecuteTime": {
          "end_time": "2020-11-29T10:20:56.761272Z",
          "start_time": "2020-11-29T10:20:56.730532Z"
        },
        "id": "Su_aKbV6wdcp"
      },
      "source": [
        "apps = apps.iloc[np.random.permutation(apps.index)].reset_index(drop=True)"
      ],
      "execution_count": 30,
      "outputs": []
    },
    {
      "cell_type": "markdown",
      "metadata": {
        "ExecuteTime": {
          "end_time": "2020-11-15T12:13:18.920373Z",
          "start_time": "2020-11-15T12:13:18.917739Z"
        },
        "id": "xdCa9u0pwdcp"
      },
      "source": [
        "### Análise N-grams"
      ]
    },
    {
      "cell_type": "markdown",
      "metadata": {
        "ExecuteTime": {
          "end_time": "2020-11-15T12:29:52.908239Z",
          "start_time": "2020-11-15T12:29:52.905069Z"
        },
        "id": "r4oSgL5Fwdcp"
      },
      "source": [
        "#### Unigrams"
      ]
    },
    {
      "cell_type": "code",
      "metadata": {
        "ExecuteTime": {
          "end_time": "2020-11-29T10:21:24.799163Z",
          "start_time": "2020-11-29T10:21:20.555175Z"
        },
        "colab": {
          "base_uri": "https://localhost:8080/",
          "height": 462
        },
        "id": "vvaj6IGNwdcp",
        "outputId": "67973f48-7568-4fc9-99c2-74f26c37f851"
      },
      "source": [
        "common_words = getTopNwords(apps['clean_text'])\n",
        "uni = pd.DataFrame(common_words, columns = ['texto' , 'contagem'])\n",
        "\n",
        "_, ax= plt.subplots()\n",
        "uni.groupby('texto').sum()['contagem'].sort_values(ascending=False).plot(kind='bar', \n",
        "                                                                         color=sns.color_palette('Greens_r', n_colors=25), \n",
        "                                                                         figsize=[10, 6])\n",
        "\n",
        "plt.title('Top 20 palavras mais frequentes', y=1.05, size=14, loc='left', x=-0.005)\n",
        "plt.ylabel('Contagem', horizontalalignment='left', y=0.83)\n",
        "plt.xlabel('Palavras', horizontalalignment='right', x=0.09)  \n",
        "plt.ylim(0, 40000)\n",
        "ax.set_xticklabels(uni['texto'], rotation=45, ha='right')\n",
        "plt.show()"
      ],
      "execution_count": 31,
      "outputs": [
        {
          "output_type": "display_data",
          "data": {
            "image/png": "[encoded data removed]",
            "text/plain": [
              "<Figure size 720x432 with 1 Axes>"
            ]
          },
          "metadata": {
            "tags": []
          }
        }
      ]
    },
    {
      "cell_type": "markdown",
      "metadata": {
        "id": "rsWWuSmKwdcp"
      },
      "source": [
        "#### Bigrams"
      ]
    },
    {
      "cell_type": "code",
      "metadata": {
        "ExecuteTime": {
          "end_time": "2020-11-29T10:21:31.942540Z",
          "start_time": "2020-11-29T10:21:24.802234Z"
        },
        "colab": {
          "base_uri": "https://localhost:8080/",
          "height": 477
        },
        "id": "Ex4WBoCYwdcp",
        "outputId": "96f8b75d-fe49-45bc-b0cd-6f0da9c61399"
      },
      "source": [
        "common_words = getTopNwords(apps['clean_text'], 2, 10)\n",
        "bi = pd.DataFrame(common_words, columns = ['texto' , 'contagem'])\n",
        "\n",
        "_, ax= plt.subplots()\n",
        "bi.groupby('texto').sum()['contagem'].sort_values(ascending=False).plot(kind='bar', \n",
        "                                                                         color=sns.color_palette('Greens_r', n_colors=12), \n",
        "                                                                         figsize=[10, 6])\n",
        "\n",
        "plt.title('Top 10 bigrams mais frequentes', y=1.05, size=14, loc='left', x=-0.005)\n",
        "plt.ylabel('Contagem', horizontalalignment='left', y=0.83)\n",
        "plt.xlabel('Palavras', horizontalalignment='right', x=0.09)  \n",
        "plt.ylim(0, 8000)\n",
        "ax.set_xticklabels(bi['texto'], rotation=45, ha='right')\n",
        "plt.show()"
      ],
      "execution_count": 32,
      "outputs": [
        {
          "output_type": "display_data",
          "data": {
            "image/png": "[encoded data removed]",
            "text/plain": [
              "<Figure size 720x432 with 1 Axes>"
            ]
          },
          "metadata": {
            "tags": []
          }
        }
      ]
    },
    {
      "cell_type": "markdown",
      "metadata": {
        "id": "jBpXwAUMwdcq"
      },
      "source": [
        "#### Trigrams"
      ]
    },
    {
      "cell_type": "code",
      "metadata": {
        "ExecuteTime": {
          "end_time": "2020-11-29T10:21:41.821171Z",
          "start_time": "2020-11-29T10:21:31.960209Z"
        },
        "colab": {
          "base_uri": "https://localhost:8080/",
          "height": 495
        },
        "id": "Yyx-B_3ewdcq",
        "outputId": "3a11502c-5aec-4621-ca3c-3bd4bc77ac2a"
      },
      "source": [
        "common_words = getTopNwords(apps['clean_text'], 3, 10)\n",
        "tri = pd.DataFrame(common_words, columns = ['texto' , 'contagem'])\n",
        "\n",
        "_, ax= plt.subplots()\n",
        "tri.groupby('texto').sum()['contagem'].sort_values(ascending=False).plot(kind='bar', \n",
        "                                                                         color=sns.color_palette('Greens_r', n_colors=12), \n",
        "                                                                         figsize=[10, 6])\n",
        "\n",
        "plt.title('Top 10 trigrams mais frequentes', y=1.05, size=14, loc='left', x=-0.005)\n",
        "plt.ylabel('Contagem', horizontalalignment='left', y=0.83)\n",
        "plt.xlabel('Palavras', horizontalalignment='right', x=0.09)  \n",
        "plt.ylim(0, 1000)\n",
        "ax.set_xticklabels(tri['texto'], rotation=45, ha='right')\n",
        "plt.show()"
      ],
      "execution_count": 33,
      "outputs": [
        {
          "output_type": "display_data",
          "data": {
            "image/png": "[encoded data removed]",
            "text/plain": [
              "<Figure size 720x432 with 1 Axes>"
            ]
          },
          "metadata": {
            "tags": []
          }
        }
      ]
    },
    {
      "cell_type": "markdown",
      "metadata": {
        "id": "7nios-RWwdcq"
      },
      "source": [
        "### Encontrando termos característicos e suas associações"
      ]
    },
    {
      "cell_type": "code",
      "metadata": {
        "ExecuteTime": {
          "end_time": "2020-11-29T10:31:41.544890Z",
          "start_time": "2020-11-29T10:21:41.835907Z"
        },
        "id": "nvTA_gPlwdcq"
      },
      "source": [
        "import scattertext as st\n",
        "import spacy\n",
        "\n",
        "nlp = spacy.load('pt_core_news_sm')\n",
        "corpus = st.CorpusFromPandas (apps, category_col='rating', text_col='clean_text', nlp=nlp).build()"
      ],
      "execution_count": 34,
      "outputs": []
    },
    {
      "cell_type": "markdown",
      "metadata": {
        "id": "f7COOscnwdcq"
      },
      "source": [
        "#### Termos mais característicos do corpus"
      ]
    },
    {
      "cell_type": "code",
      "metadata": {
        "ExecuteTime": {
          "end_time": "2020-11-29T10:31:43.730023Z",
          "start_time": "2020-11-29T10:31:41.546360Z"
        },
        "colab": {
          "base_uri": "https://localhost:8080/"
        },
        "id": "-nhtLZ_Hwdcq",
        "outputId": "2518b6ee-5830-4dd3-867c-cd6047d4c356"
      },
      "source": [
        "print(list(corpus.get_scaled_f_scores_vs_background().index[:50]))"
      ],
      "execution_count": 35,
      "outputs": [
        {
          "output_type": "stream",
          "text": [
            "['aplicativo', 'nao', 'muito', 'jogo', 'bom', 'consigo', 'pra', 'gostei', 'mais', 'porque', 'ruim', 'fica', 'conta', 'otimo', 'trava', 'vezes', 'vou', 'horrivel', 'erro', 'estrelas', 'fazer', 'melhor', 'porem', 'voce', 'ainda', 'funciona', 'tudo', 'voces', 'celular', 'aparece', 'atualizar', 'bem', 'poderia', 'pois', 'agora', 'lixo', 'sempre', 'problema', 'melhorar', 'assim', 'nada', 'jogar', 'recomendo', 'acho', 'usar', 'entrar', 'gosto', 'coisa', 'deveria', 'quero']\n"
          ],
          "name": "stdout"
        }
      ]
    },
    {
      "cell_type": "markdown",
      "metadata": {
        "ExecuteTime": {
          "end_time": "2020-11-28T14:24:30.738943Z",
          "start_time": "2020-11-28T14:24:30.735708Z"
        },
        "id": "tdGKFW7Rwdcq"
      },
      "source": [
        "#### Termos mais associados à classe negativo"
      ]
    },
    {
      "cell_type": "code",
      "metadata": {
        "ExecuteTime": {
          "end_time": "2020-11-29T10:31:43.963106Z",
          "start_time": "2020-11-29T10:31:43.731724Z"
        },
        "colab": {
          "base_uri": "https://localhost:8080/"
        },
        "id": "mkakMhumwdcq",
        "outputId": "d0696544-92a6-429d-c694-0e6720fe5489"
      },
      "source": [
        "term_freq_df = corpus.get_term_freq_df() \n",
        "term_freq_df['negativo'] = corpus.get_scaled_f_scores('negativo') \n",
        "print(list(term_freq_df.sort_values(by='negativo', ascending=False).index[:10]))"
      ],
      "execution_count": 36,
      "outputs": [
        {
          "output_type": "stream",
          "text": [
            "['bosta', 'nao recomendo', 'péssimo', 'péssimo aplicativo', 'pior aplicativo', 'lixo', 'odiei', 'nao presta', 'horrivel', 'aplicativo horrivel']\n"
          ],
          "name": "stdout"
        }
      ]
    },
    {
      "cell_type": "markdown",
      "metadata": {
        "id": "bwD7SUFXwdcq"
      },
      "source": [
        "#### Termos mais associados à classe positivo"
      ]
    },
    {
      "cell_type": "code",
      "metadata": {
        "ExecuteTime": {
          "end_time": "2020-11-29T10:31:44.119965Z",
          "start_time": "2020-11-29T10:31:43.965103Z"
        },
        "colab": {
          "base_uri": "https://localhost:8080/"
        },
        "id": "6YLgyFqBwdcq",
        "outputId": "5e8736a8-2164-45cf-ba69-f6a043a00924"
      },
      "source": [
        "term_freq_df['positivo'] = corpus.get_scaled_f_scores('positivo') \n",
        "print(list(term_freq_df.sort_values(by='positivo', ascending=False).index[:10]))"
      ],
      "execution_count": 37,
      "outputs": [
        {
          "output_type": "stream",
          "text": [
            "['gostei bastante', 'bom recomendo', 'facil usar', 'muito pratico', 'nao dei', 'bom gostei', 'mas poderia', 'bem legal', 'muito bom', 'bom aplicativo']\n"
          ],
          "name": "stdout"
        }
      ]
    },
    {
      "cell_type": "markdown",
      "metadata": {
        "id": "ZEk07Nwpwdcq"
      },
      "source": [
        "### Média de tokens por instância"
      ]
    },
    {
      "cell_type": "code",
      "metadata": {
        "ExecuteTime": {
          "end_time": "2020-11-29T10:31:44.250323Z",
          "start_time": "2020-11-29T10:31:44.122207Z"
        },
        "colab": {
          "base_uri": "https://localhost:8080/"
        },
        "id": "esYTvvywwdcq",
        "outputId": "f2092581-4c89-4b71-99e7-bb938de753b4"
      },
      "source": [
        "average = averageTokens(apps, 'clean_text')\n",
        "print(f'Média dos tokens por instância: {round(average, 2)}')"
      ],
      "execution_count": 39,
      "outputs": [
        {
          "output_type": "stream",
          "text": [
            "Média dos tokens por instância: 11.1\n"
          ],
          "name": "stdout"
        }
      ]
    },
    {
      "cell_type": "markdown",
      "metadata": {
        "id": "b6Ftv-bXN0Q8"
      },
      "source": [
        "### Encoder"
      ]
    },
    {
      "cell_type": "code",
      "metadata": {
        "ExecuteTime": {
          "end_time": "2020-11-29T10:31:44.270551Z",
          "start_time": "2020-11-29T10:31:44.251950Z"
        },
        "id": "kvT0wr0cwdcq"
      },
      "source": [
        "X = apps.drop(['rating'], axis=1)\n",
        "y = apps['rating']"
      ],
      "execution_count": 40,
      "outputs": []
    },
    {
      "cell_type": "code",
      "metadata": {
        "colab": {
          "base_uri": "https://localhost:8080/"
        },
        "id": "SFEDqyG9N2oz",
        "outputId": "90d455d0-d1ee-4335-e43f-e3ff4fbb20dd"
      },
      "source": [
        "from sklearn.preprocessing import LabelEncoder\n",
        "\n",
        "le = LabelEncoder()\n",
        "y = le.fit_transform(y)\n",
        "print('Labels: ', len(le.classes_))"
      ],
      "execution_count": 41,
      "outputs": [
        {
          "output_type": "stream",
          "text": [
            "Labels:  2\n"
          ],
          "name": "stdout"
        }
      ]
    },
    {
      "cell_type": "markdown",
      "metadata": {
        "id": "7jYqpN4Uwdcq"
      },
      "source": [
        "### Separação treino e teste"
      ]
    },
    {
      "cell_type": "code",
      "metadata": {
        "ExecuteTime": {
          "end_time": "2020-11-29T10:31:44.505678Z",
          "start_time": "2020-11-29T10:31:44.272166Z"
        },
        "id": "7cb2Sh3Swdcq"
      },
      "source": [
        "from sklearn.model_selection import train_test_split\n",
        "X_train, X_test, y_train, y_test = train_test_split(X, y, test_size=0.20, random_state=85, shuffle=True)"
      ],
      "execution_count": 42,
      "outputs": []
    },
    {
      "cell_type": "markdown",
      "metadata": {
        "id": "EMcX0pzODkqT"
      },
      "source": [
        "# Representação\n",
        "\n",
        "<p align=\"justify\">Você vai usar cada uma dessas representações e compará-las. A seguir temos a listagem das representações que devem ser usadas para representar seu texto:</p>\n",
        "\n",
        "- Representação TF-IDF\n",
        "- Representação com o word2vec\n",
        "- Extração de features do texto"
      ]
    },
    {
      "cell_type": "markdown",
      "metadata": {
        "id": "7jkQkwQXwdcq"
      },
      "source": [
        "#### TF-IDF"
      ]
    },
    {
      "cell_type": "code",
      "metadata": {
        "ExecuteTime": {
          "end_time": "2020-11-29T10:31:45.305860Z",
          "start_time": "2020-11-29T10:31:44.507333Z"
        },
        "id": "ZcTco2AYwdcq"
      },
      "source": [
        "from sklearn.feature_extraction.text import TfidfVectorizer\n",
        "from sklearn.decomposition import PCA\n",
        "from sklearn.preprocessing import StandardScaler\n",
        "\n",
        "vectorizer = TfidfVectorizer(stop_words=STOPWORDS)\n",
        "vectors = vectorizer.fit_transform(X_train['clean_text'])\n",
        "\n",
        "standard = StandardScaler(with_mean=False)\n",
        "vectors = standard.fit_transform(vectors)"
      ],
      "execution_count": 43,
      "outputs": []
    },
    {
      "cell_type": "markdown",
      "metadata": {
        "id": "m5b7p_1_5o0o"
      },
      "source": [
        "#### Word2vec"
      ]
    },
    {
      "cell_type": "code",
      "metadata": {
        "id": "CDCnAeCo5pKR"
      },
      "source": [
        "from gensim.models import KeyedVectors\n",
        "model_w2v = KeyedVectors.load_word2vec_format('/content/gdrive/MyDrive/Colab Notebooks/aed_projeto_4/model/vectors-wikipt.bin', binary= True)\n",
        "model_w2v.init_sims(replace=True)"
      ],
      "execution_count": 44,
      "outputs": []
    },
    {
      "cell_type": "markdown",
      "metadata": {
        "id": "4lHBW6km6iYx"
      },
      "source": [
        "#### Extração de features do texto"
      ]
    },
    {
      "cell_type": "code",
      "metadata": {
        "id": "N0QJFtS86g2Y"
      },
      "source": [
        "from textblob import TextBlob\n",
        "\n",
        "apps['polarity'] = apps['clean_text'].map(lambda text: TextBlob(text).sentiment.polarity)\n",
        "apps['tamanho_texto'] = apps['clean_text'].astype(str).apply(len)\n",
        "apps['contagem_palavras'] = apps['clean_text'].apply(lambda x: len(str(x).split()))"
      ],
      "execution_count": 45,
      "outputs": []
    },
    {
      "cell_type": "markdown",
      "metadata": {
        "id": "NqPStR-gwdcq"
      },
      "source": [
        "# Visualização dos dados\n",
        "<p align=\"justify\">Coloque nesta seção os gráficos do PCA e do t-SNE, para cada representação. Responda também às seguintes perguntas:</p>\n",
        "\n",
        "\n",
        "- a) Existe algum padrão com relação às classes? \n",
        "- b) Caso exista algum padrão, você pode concluir alguma coisa? \n",
        "- c) Caso não exista, você consegue dizer se isso tem a ver com alguma representação ou classe?"
      ]
    },
    {
      "cell_type": "markdown",
      "metadata": {
        "id": "OHQ91lG_EAM1"
      },
      "source": [
        "**Observação:** Devido ao alto consumo de memória e da limitação do Colab e da minha máquina, será utilizada apenas uma amostra para gerar os gráficos PCA e T-SNE."
      ]
    },
    {
      "cell_type": "markdown",
      "metadata": {
        "ExecuteTime": {
          "end_time": "2020-11-29T10:31:45.839574Z",
          "start_time": "2020-11-29T10:25:04.357Z"
        },
        "id": "hAhoYppOwdcq"
      },
      "source": [
        "### PCA"
      ]
    },
    {
      "cell_type": "markdown",
      "metadata": {
        "id": "0kxY_X9W4h0O"
      },
      "source": [
        "#### TF-IDF"
      ]
    },
    {
      "cell_type": "code",
      "metadata": {
        "ExecuteTime": {
          "start_time": "2020-11-29T10:32:14.746Z"
        },
        "colab": {
          "base_uri": "https://localhost:8080/",
          "height": 365
        },
        "id": "I_P3Znlawdcq",
        "outputId": "e777567b-35cc-4d93-e7f7-a267480196bf"
      },
      "source": [
        "from yellowbrick.features import PCA\n",
        "\n",
        "sns.set()\n",
        "\n",
        "fig, ax = plt.subplots(figsize=(10, 5))\n",
        "classes = ['Negativo', 'Positivo']\n",
        "\n",
        "visualizer = PCA(scale=True, classes=classes)\n",
        "visualizer.fit_transform(vectors.toarray()[:1000], y_train[:1000])\n",
        "visualizer.show();"
      ],
      "execution_count": 46,
      "outputs": [
        {
          "output_type": "display_data",
          "data": {
            "image/png": "[encoded data removed]",
            "text/plain": [
              "<Figure size 720x360 with 1 Axes>"
            ]
          },
          "metadata": {
            "tags": []
          }
        }
      ]
    },
    {
      "cell_type": "markdown",
      "metadata": {
        "id": "UkSbLnRN4mNK"
      },
      "source": [
        "#### Word2vec"
      ]
    },
    {
      "cell_type": "code",
      "metadata": {
        "id": "rNK-H2SPwdcq"
      },
      "source": [
        ""
      ],
      "execution_count": 46,
      "outputs": []
    },
    {
      "cell_type": "markdown",
      "metadata": {
        "id": "2sgwW09R4qGG"
      },
      "source": [
        "#### Extração de features"
      ]
    },
    {
      "cell_type": "code",
      "metadata": {
        "id": "ksvWiziv4qXN"
      },
      "source": [
        ""
      ],
      "execution_count": 46,
      "outputs": []
    },
    {
      "cell_type": "markdown",
      "metadata": {
        "id": "x1Rw4wJLwdcr"
      },
      "source": [
        "### T-SNE"
      ]
    },
    {
      "cell_type": "markdown",
      "metadata": {
        "id": "ZhdAsGTu40Al"
      },
      "source": [
        "#### TF-IDF"
      ]
    },
    {
      "cell_type": "code",
      "metadata": {
        "colab": {
          "base_uri": "https://localhost:8080/",
          "height": 374
        },
        "id": "3nIEKxNgwdcr",
        "outputId": "84044324-e96c-41a5-c3bb-6caa73f7663a"
      },
      "source": [
        "from yellowbrick.text import TSNEVisualizer\n",
        "\n",
        "fig, ax = plt.subplots(figsize=(10, 5))\n",
        "tsne = TSNEVisualizer(labels=[0, 1])\n",
        "tsne.fit(vectors.toarray()[:1000], y_train[:1000])\n",
        "tsne.show();"
      ],
      "execution_count": 47,
      "outputs": [
        {
          "output_type": "stream",
          "text": [
            "*c* argument looks like a single numeric RGB or RGBA sequence, which should be avoided as value-mapping will have precedence in case its length matches with *x* & *y*.  Please use the *color* keyword-argument or provide a 2-D array with a single row if you intend to specify the same RGB or RGBA value for all points.\n",
            "*c* argument looks like a single numeric RGB or RGBA sequence, which should be avoided as value-mapping will have precedence in case its length matches with *x* & *y*.  Please use the *color* keyword-argument or provide a 2-D array with a single row if you intend to specify the same RGB or RGBA value for all points.\n"
          ],
          "name": "stderr"
        },
        {
          "output_type": "display_data",
          "data": {
            "image/png": "[encoded data removed]",
            "text/plain": [
              "<Figure size 720x360 with 1 Axes>"
            ]
          },
          "metadata": {
            "tags": []
          }
        }
      ]
    },
    {
      "cell_type": "markdown",
      "metadata": {
        "id": "iDUpMiuU40lf"
      },
      "source": [
        "#### Word2vec"
      ]
    },
    {
      "cell_type": "code",
      "metadata": {
        "id": "7_U-CV6qwdcr"
      },
      "source": [
        ""
      ],
      "execution_count": null,
      "outputs": []
    },
    {
      "cell_type": "markdown",
      "metadata": {
        "id": "D5Casg4b41VU"
      },
      "source": [
        "#### Extração de features"
      ]
    },
    {
      "cell_type": "code",
      "metadata": {
        "id": "au6xYX_y42Nz"
      },
      "source": [
        ""
      ],
      "execution_count": null,
      "outputs": []
    },
    {
      "cell_type": "markdown",
      "metadata": {
        "id": "fwJt_3KAwdcr"
      },
      "source": [
        "# Classificadores\n",
        "\n",
        "\n",
        "<p align=\"justify\">Descreva sucintamente os dois classificadores escolhidos. Você usou algum parâmetro que não seja padrão? Se sim, mencione nesta seção.</p>"
      ]
    },
    {
      "cell_type": "code",
      "metadata": {
        "id": "YHDmt4VCwdcr"
      },
      "source": [
        ""
      ],
      "execution_count": null,
      "outputs": []
    },
    {
      "cell_type": "markdown",
      "metadata": {
        "id": "vA84B4pXwdcr"
      },
      "source": [
        "# Resultados\n",
        "\n",
        "\n",
        "<p align=\"justify\">Escreva código que execute a validação cruzada em 5-folds para os dois classificadores escolhidos. Também responda às seguintes perguntas:</p>\n",
        "\n",
        "- Os embeddings realmente mostraram um resultado melhor que o TF-IDF? \n",
        "- Se não, qual foi a representação que teve o melhor desempenho? \n",
        "- A diferença foi muito grande?"
      ]
    },
    {
      "cell_type": "code",
      "metadata": {
        "id": "IJhVs8xYwdcr"
      },
      "source": [
        ""
      ],
      "execution_count": null,
      "outputs": []
    },
    {
      "cell_type": "markdown",
      "metadata": {
        "id": "FEN6PI5Owdcr"
      },
      "source": [
        "# Conclusão\n",
        "\n",
        "\n",
        "<p align=\"justify\">Por fim, fale aqui o que você conclui das visualizações e dos resultados. Tente explicar em detalhes por que um resultado, na sua opinião, foi melhor do que outro. Esta explicação pode incluir hipóteses para resultados melhores ou resultados piores. Também pode falar das dificuldades enfrentadas durante o trabalho e como conseguiu contorná-las.</p>"
      ]
    },
    {
      "cell_type": "code",
      "metadata": {
        "id": "b7YJb2_Qwdcr"
      },
      "source": [
        ""
      ],
      "execution_count": null,
      "outputs": []
    }
  ]
}